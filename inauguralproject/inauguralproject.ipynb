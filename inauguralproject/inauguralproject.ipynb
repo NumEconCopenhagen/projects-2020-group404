{
 "cells": [
  {
   "cell_type": "markdown",
   "metadata": {},
   "source": [
    "# Inaugural Project"
   ]
  },
  {
   "cell_type": "markdown",
   "metadata": {},
   "source": [
    "> **Note the following:** \n",
    "> 1. This is an example of how to structure your **inaugural project**.\n",
    "> 1. Remember the general advice on structuring and commenting your code from [lecture 5](https://numeconcopenhagen.netlify.com/lectures/Workflow_and_debugging).\n",
    "> 1. Remember this [guide](https://www.markdownguide.org/basic-syntax/) on markdown and (a bit of) latex.\n",
    "> 1. Turn on automatic numbering by clicking on the small icon on top of the table of contents in the left sidebar.\n",
    "> 1. The `inauguralproject.py` file includes a function which can be used multiple times in this notebook."
   ]
  },
  {
   "cell_type": "markdown",
   "metadata": {},
   "source": [
    "Imports and set magics:"
   ]
  },
  {
   "cell_type": "code",
   "execution_count": 8,
   "metadata": {},
   "outputs": [],
   "source": [
    "# importint packages\n",
    "import numpy as np\n",
    "import itertools as it\n",
    "from scipy import optimize\n",
    "\n",
    "# importing pyplot and chossing style.\n",
    "%matplotlib inline\n",
    "import matplotlib.pyplot as plt\n",
    "plt.style.use('seaborn-whitegrid')\n",
    "\n",
    "# autoreload modules when code is run\n",
    "%load_ext autoreload\n",
    "%autoreload 2\n",
    "\n",
    "# local modules\n",
    "import inauguralproject"
   ]
  },
  {
   "cell_type": "markdown",
   "metadata": {
    "toc-hr-collapsed": true
   },
   "source": [
    "# Question 1"
   ]
  },
  {
   "cell_type": "markdown",
   "metadata": {},
   "source": [
    "BRIEFLY EXPLAIN HOW YOU SOLVE THE MODEL.  \n",
    "\n",
    "We're using scipy optimize to solve the model"
   ]
  },
  {
   "cell_type": "code",
   "execution_count": 13,
   "metadata": {},
   "outputs": [
    {
     "name": "stdout",
     "output_type": "stream",
     "text": "[1 4 9]\n-2.3076923076923075\n-2.3076923076923075\n10.051100268263106\n"
    }
   ],
   "source": [
    "# code for solving the model (remember documentation and comments)\n",
    "\n",
    "#I have no idea why this code is here\n",
    "a = np.array([1,2,3])\n",
    "b = inauguralproject.square(a)\n",
    "print(b)\n",
    "\n",
    "#setting parameter values\n",
    "m = 1\n",
    "v = 10\n",
    "epsilon = 0.3\n",
    "tao0 = 0.4\n",
    "tao1 = 0.1\n",
    "kappa = 0.4\n",
    "w = 1\n",
    "x = 1\n",
    "cl = (1,1)\n",
    "\n",
    "#Defining model\n",
    "def f(c = cl[0], l = cl[1], v = v, epsilon = epsilon):\n",
    "    return np.log(c) - v*(l**(1+1/epsilon))/(1+1/epsilon)\n",
    "print(f())\n",
    "print(\"-2.3076923076923075\")\n",
    "print(f(100000, 0.9))"
   ]
  },
  {
   "cell_type": "code",
   "execution_count": 14,
   "metadata": {},
   "outputs": [
    {
     "name": "stdout",
     "output_type": "stream",
     "text": "fun: -0.17158306262725856\n     jac: array([-0.80645502,  0.47152175])\n message: 'Optimization terminated successfully.'\n    nfev: 57\n     nit: 12\n    njev: 12\n  status: 0\n success: True\n       x: array([1.23999669, 0.39999449])\n0.17158306262725856\n"
    }
   ],
   "source": [
    "# Using scipy to optimize the model\n",
    "\n",
    "def obj(cl):\n",
    "    c = cl[0]\n",
    "    l = cl[1]\n",
    "    return -f(c,l)\n",
    "\n",
    "#constraint for x\n",
    "def constriantx(w):\n",
    "    x = m + w*cl[1] - (tao0*w*cl[1] + tao1*max(w*cl[1]-kappa,0))\n",
    "    return x\n",
    "con = lambda cl: np.array([m + w*cl[1] - (tao0*w*cl[1] + tao1*max(w*cl[1]-kappa,0)) - cl[0]])\n",
    "\n",
    "# constraints (violated if negative) and bounds\n",
    "boundc = (0.0, m + w*cl[1] - (tao0*w*cl[1] + tao1*max(w*cl[1]-kappa,0)))\n",
    "boundl = (0.0,1.0)\n",
    "bounds = (boundc,boundl)\n",
    "cons = ({'type': 'eq', 'fun': con})\n",
    "\n",
    "#initial guess\n",
    "initial_guess = np.array([1,1])\n",
    "\n",
    "# c. call solver\n",
    "sol = optimize.minimize(\n",
    "    obj,initial_guess,\n",
    "    method='SLSQP',bounds=bounds, constraints = cons)\n",
    "\n",
    "# d. unpack solution\n",
    "print(sol)\n",
    "print(f(sol.x[0],sol.x[1]))"
   ]
  },
  {
   "cell_type": "markdown",
   "metadata": {},
   "source": [
    "# Question 2"
   ]
  },
  {
   "cell_type": "markdown",
   "metadata": {},
   "source": [
    "ADD ANSWER HERE."
   ]
  },
  {
   "cell_type": "code",
   "execution_count": 4,
   "metadata": {},
   "outputs": [
    {
     "ename": "NameError",
     "evalue": "name 'Lort' is not defined",
     "output_type": "error",
     "traceback": [
      "\u001b[1;31m---------------------------------------------------------------------------\u001b[0m",
      "\u001b[1;31mNameError\u001b[0m                                 Traceback (most recent call last)",
      "\u001b[1;32m<ipython-input-4-9ea0b6107a14>\u001b[0m in \u001b[0;36m<module>\u001b[1;34m\u001b[0m\n\u001b[0;32m      1\u001b[0m \u001b[1;31m# code\u001b[0m\u001b[1;33m\u001b[0m\u001b[1;33m\u001b[0m\u001b[1;33m\u001b[0m\u001b[0m\n\u001b[0;32m      2\u001b[0m \u001b[1;33m\u001b[0m\u001b[0m\n\u001b[1;32m----> 3\u001b[1;33m \u001b[0mLort\u001b[0m\u001b[1;33m\u001b[0m\u001b[1;33m\u001b[0m\u001b[0m\n\u001b[0m",
      "\u001b[1;31mNameError\u001b[0m: name 'Lort' is not defined"
     ]
    }
   ],
   "source": [
    "# code\n"
   ]
  },
  {
   "cell_type": "markdown",
   "metadata": {},
   "source": [
    "# Question 3"
   ]
  },
  {
   "cell_type": "markdown",
   "metadata": {},
   "source": [
    "ADD ANSWER."
   ]
  },
  {
   "cell_type": "code",
   "execution_count": 4,
   "metadata": {},
   "outputs": [],
   "source": [
    "# code"
   ]
  },
  {
   "cell_type": "markdown",
   "metadata": {},
   "source": [
    "# Question 4"
   ]
  },
  {
   "cell_type": "markdown",
   "metadata": {},
   "source": [
    "ADD ANSWER."
   ]
  },
  {
   "cell_type": "code",
   "execution_count": 5,
   "metadata": {},
   "outputs": [],
   "source": [
    "# code"
   ]
  },
  {
   "cell_type": "markdown",
   "metadata": {},
   "source": [
    "# Question 5"
   ]
  },
  {
   "cell_type": "markdown",
   "metadata": {},
   "source": [
    "ADD ANSWER."
   ]
  },
  {
   "cell_type": "code",
   "execution_count": 6,
   "metadata": {},
   "outputs": [],
   "source": [
    "# code"
   ]
  },
  {
   "cell_type": "markdown",
   "metadata": {},
   "source": [
    "# Conclusion"
   ]
  },
  {
   "cell_type": "markdown",
   "metadata": {},
   "source": [
    "ADD CONCISE CONLUSION."
   ]
  }
 ],
 "metadata": {
  "kernelspec": {
   "display_name": "Python 3",
   "language": "python",
   "name": "python3"
  },
  "language_info": {
   "codemirror_mode": {
    "name": "ipython",
    "version": 3
   },
   "file_extension": ".py",
   "mimetype": "text/x-python",
   "name": "python",
   "nbconvert_exporter": "python",
   "pygments_lexer": "ipython3",
   "version": "3.7.4-final"
  },
  "toc-autonumbering": true
 },
 "nbformat": 4,
 "nbformat_minor": 4
}