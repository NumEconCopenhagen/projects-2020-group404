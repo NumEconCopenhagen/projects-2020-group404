{
 "cells": [
  {
   "cell_type": "markdown",
   "metadata": {},
   "source": [
    "# Inaugural Project"
   ]
  },
  {
   "cell_type": "markdown",
   "metadata": {},
   "source": [
    "> **Note the following:** \n",
    "> 1. This is an example of how to structure your **inaugural project**.\n",
    "> 1. Remember the general advice on structuring and commenting your code from [lecture 5](https://numeconcopenhagen.netlify.com/lectures/Workflow_and_debugging).\n",
    "> 1. Remember this [guide](https://www.markdownguide.org/basic-syntax/) on markdown and (a bit of) latex.\n",
    "> 1. Turn on automatic numbering by clicking on the small icon on top of the table of contents in the left sidebar.\n",
    "> 1. The `inauguralproject.py` file includes a function which can be used multiple times in this notebook."
   ]
  },
  {
   "cell_type": "markdown",
   "metadata": {},
   "source": [
    "Imports and set magics:"
   ]
  },
  {
   "cell_type": "code",
   "execution_count": 6,
   "metadata": {},
   "outputs": [
    {
     "name": "stdout",
     "output_type": "stream",
     "text": [
      "The autoreload extension is already loaded. To reload it, use:\n",
      "  %reload_ext autoreload\n"
     ]
    }
   ],
   "source": [
    "# importint packages\n",
    "import numpy as np\n",
    "import itertools as it\n",
    "from scipy import optimize\n",
    "\n",
    "# importing pyplot and chossing style.\n",
    "%matplotlib inline\n",
    "import matplotlib.pyplot as plt\n",
    "plt.style.use('seaborn-whitegrid')\n",
    "\n",
    "# autoreload modules when code is run\n",
    "%load_ext autoreload\n",
    "%autoreload 2\n",
    "\n",
    "# local modules\n",
    "import inauguralproject\n",
    "import Liveshare"
   ]
  },
  {
   "cell_type": "markdown",
   "metadata": {
    "toc-hr-collapsed": true
   },
   "source": [
    "# Question 1"
   ]
  },
  {
   "cell_type": "markdown",
   "metadata": {},
   "source": [
    "BRIEFLY EXPLAIN HOW YOU SOLVE THE MODEL.  \n",
    "\n",
    "We're using scipy optimize to solve the model"
   ]
  },
  {
   "cell_type": "code",
   "execution_count": 16,
   "metadata": {},
   "outputs": [],
   "source": [
    "# code for solving the model (remember documentation and comments)\n",
    "\n",
    "#setting parameter values\n",
    "m = 1\n",
    "v = 10\n",
    "epsilon = 0.3\n",
    "tao0 = 0.4\n",
    "tao1 = 0.1\n",
    "kappa = 0.4\n",
    "w = 1\n",
    "cl = (1,1)\n",
    "\n",
    "#Defining model\n",
    "def f(c = cl[0], l = cl[1], v = v, epsilon = epsilon):\n",
    "    return np.log(c) - v*(l**(1+1/epsilon))/(1+1/epsilon)"
   ]
  },
  {
   "cell_type": "code",
   "execution_count": 17,
   "metadata": {},
   "outputs": [
    {
     "name": "stdout",
     "output_type": "stream",
     "text": [
      "c = 1.23999669\n",
      "l = 0.39999449\n",
      "u = 0.17158306\n"
     ]
    }
   ],
   "source": [
    "# Using scipy to optimize the model\n",
    "sol = Liveshare.solver(m,v,epsilon,tao0,tao1,kappa,w,cl,f)\n",
    "# d. unpack solution\n",
    "c = sol.x[0]\n",
    "l = sol.x[1]\n",
    "u = f(c,l)\n",
    "Liveshare.print_solution(c,l,u)"
   ]
  },
  {
   "cell_type": "markdown",
   "metadata": {},
   "source": [
    "# Question 2"
   ]
  },
  {
   "cell_type": "markdown",
   "metadata": {},
   "source": [
    "ADD ANSWER."
   ]
  },
  {
   "cell_type": "code",
   "execution_count": null,
   "metadata": {},
   "outputs": [],
   "source": [
    "# Run the same code 100 times! :D\n",
    "import numpy as np\n",
    "from scipy import optimize\n",
    "\n",
    "# a. We define the function that optimize the labor supply problem\n",
    "def solution(w , m , v=10 , epsilon = 0.3 , tau0 = 0.4 , tau1 = 0.1 , kappa = 0.4):\n",
    "    \"\"\" The function solves the labor supply problem of the consumer.\n",
    "    Arguments:\n",
    "    w(float)       = Defines wage\n",
    "    m(float)       = Defines cash on hand\n",
    "    v(float)       = Scales disutility of work\n",
    "    epsilon(float) = Defines the labor supply elasticity\n",
    "    tau0(float)    = Defines the lower tax rate\n",
    "    tau1(float)    = Defines the top tax rate\n",
    "    kappa(float)   = Defines the kink in proggressive tax system\n",
    "    \n",
    "    Returns: \n",
    "    A list containing consumptiuon, c(float), leisure, l(float) and utility u(float)\n",
    "    \"\"\"\n",
    "    # b. Defines the utility function  \n",
    "    def u_func(l,c,epsilon,v):\n",
    "        return np.log(c) - v * (l**(1 + (1/epsilon))) / (1 + (1/epsilon))\n",
    "    # c. objective funciton (to minimize)\n",
    "    def value_of_choice(l,m,v,epsilon,tau0,tau1,kappa,w):\n",
    "        c = m + w*l - (tau0*w*l + tau1*np.maximum(w*l - kappa , 0))\n",
    "        return -u_func(l , c , epsilon , v)\n",
    "\n",
    "    # d. calling the solver\n",
    "    sol_case1 = optimize.minimize_scalar(\n",
    "        value_of_choice,method='bounded',\n",
    "        bounds=(0,1),args=(m,v,epsilon,tau0,tau1,kappa,w))\n",
    "\n",
    "    # e. unpacking the solution\n",
    "    l = sol_case1.x\n",
    "    c = m+w*l-(tau0*w*l+tau1*np.maximum(w*l-kappa,0))\n",
    "    u = u_func(l,c,epsilon,v)\n",
    "    return [c, l , u]"
   ]
  },
  {
   "cell_type": "markdown",
   "metadata": {},
   "source": [
    "# Question 3"
   ]
  },
  {
   "cell_type": "markdown",
   "metadata": {},
   "source": [
    "ADD ANSWER."
   ]
  },
  {
   "cell_type": "code",
   "execution_count": null,
   "metadata": {},
   "outputs": [],
   "source": [
    "# code"
   ]
  },
  {
   "cell_type": "markdown",
   "metadata": {},
   "source": [
    "# Question 4"
   ]
  },
  {
   "cell_type": "markdown",
   "metadata": {},
   "source": [
    "ADD ANSWER."
   ]
  },
  {
   "cell_type": "code",
   "execution_count": null,
   "metadata": {},
   "outputs": [],
   "source": [
    "# code"
   ]
  },
  {
   "cell_type": "markdown",
   "metadata": {},
   "source": [
    "# Question 5"
   ]
  },
  {
   "cell_type": "markdown",
   "metadata": {},
   "source": [
    "ADD ANSWER."
   ]
  },
  {
   "cell_type": "code",
   "execution_count": null,
   "metadata": {},
   "outputs": [],
   "source": [
    "# code"
   ]
  },
  {
   "cell_type": "markdown",
   "metadata": {},
   "source": [
    "# Conclusion"
   ]
  },
  {
   "cell_type": "markdown",
   "metadata": {},
   "source": [
    "ADD CONCISE CONLUSION."
   ]
  }
 ],
 "metadata": {
  "kernelspec": {
   "display_name": "Python 3",
   "language": "python",
   "name": "python3"
  },
  "language_info": {
   "codemirror_mode": {
    "name": "ipython",
    "version": 3
   },
   "file_extension": ".py",
   "mimetype": "text/x-python",
   "name": "python",
   "nbconvert_exporter": "python",
   "pygments_lexer": "ipython3",
   "version": "3.7.4"
  },
  "toc-autonumbering": true
 },
 "nbformat": 4,
 "nbformat_minor": 4
}
