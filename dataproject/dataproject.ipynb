{
 "cells": [
  {
   "cell_type": "code",
   "execution_count": 1,
   "metadata": {},
   "outputs": [],
   "source": [
    "import pandas as pd\n",
    "import numpy as np\n",
    "from matplotlib.widgets import Slider\n",
    "import matplotlib.pyplot as plt\n",
    "import tkinter as tk\n",
    "import os\n",
    "import ipywidgets as widgets\n",
    "from IPython.display import display\n",
    "import seaborn as sns\n",
    "#local module\n",
    "import dataproject\n",
    "\n",
    "# autoreload modules when code is run\n",
    "%load_ext autoreload\n",
    "%autoreload 2\n",
    "\n",
    "pd.options.mode.chained_assignment = None\n",
    "plt.style.use('seaborn-whitegrid')"
   ]
  },
  {
   "cell_type": "code",
   "execution_count": 2,
   "metadata": {},
   "outputs": [
    {
     "output_type": "execute_result",
     "data": {
      "text/plain": "  Uddannelsesaktivitet efter status, bopælsområde, køn, uddannelse, alder og tid  \\\n0                                       Enhed: antal                               \n1                                                NaN                               \n2                                           Fuldført                               \n3                                                NaN                               \n4                                                NaN                               \n\n    Unnamed: 1             Unnamed: 2      Unnamed: 3   Unnamed: 4  \\\n0          NaN                    NaN             NaN          NaN   \n1          NaN                    NaN             NaN          NaN   \n2  Hele landet  Mænd og kvinder i alt  H10 Grundskole  Alder i alt   \n3          NaN                    NaN             NaN        -5 år   \n4          NaN                    NaN             NaN         6 år   \n\n   Unnamed: 5  Unnamed: 6  Unnamed: 7  Unnamed: 8  Unnamed: 9  Unnamed: 10  \\\n0         NaN         NaN         NaN         NaN         NaN          NaN   \n1      2005.0      2006.0      2007.0      2008.0      2009.0       2010.0   \n2     93865.0     95634.0     94320.0    100198.0    100715.0     102939.0   \n3         0.0         0.0         0.0         0.0         0.0          0.0   \n4         0.0         0.0         0.0         0.0         0.0          0.0   \n\n   Unnamed: 11  Unnamed: 12  Unnamed: 13  Unnamed: 14  Unnamed: 15  \\\n0          NaN          NaN          NaN          NaN          NaN   \n1       2011.0       2012.0       2013.0       2014.0       2015.0   \n2     105233.0     106509.0     104984.0     103470.0     102982.0   \n3          0.0          0.0          0.0          0.0          0.0   \n4          0.0          0.0          1.0          0.0          0.0   \n\n   Unnamed: 16  Unnamed: 17  Unnamed: 18  Unnamed: 19  \n0          NaN          NaN          NaN          NaN  \n1       2016.0       2017.0       2018.0       2019.0  \n2     103751.0     100831.0     100202.0     101043.0  \n3          0.0          8.0          8.0         29.0  \n4          0.0          1.0         20.0         81.0  ",
      "text/html": "<div>\n<style scoped>\n    .dataframe tbody tr th:only-of-type {\n        vertical-align: middle;\n    }\n\n    .dataframe tbody tr th {\n        vertical-align: top;\n    }\n\n    .dataframe thead th {\n        text-align: right;\n    }\n</style>\n<table border=\"1\" class=\"dataframe\">\n  <thead>\n    <tr style=\"text-align: right;\">\n      <th></th>\n      <th>Uddannelsesaktivitet efter status, bopælsområde, køn, uddannelse, alder og tid</th>\n      <th>Unnamed: 1</th>\n      <th>Unnamed: 2</th>\n      <th>Unnamed: 3</th>\n      <th>Unnamed: 4</th>\n      <th>Unnamed: 5</th>\n      <th>Unnamed: 6</th>\n      <th>Unnamed: 7</th>\n      <th>Unnamed: 8</th>\n      <th>Unnamed: 9</th>\n      <th>Unnamed: 10</th>\n      <th>Unnamed: 11</th>\n      <th>Unnamed: 12</th>\n      <th>Unnamed: 13</th>\n      <th>Unnamed: 14</th>\n      <th>Unnamed: 15</th>\n      <th>Unnamed: 16</th>\n      <th>Unnamed: 17</th>\n      <th>Unnamed: 18</th>\n      <th>Unnamed: 19</th>\n    </tr>\n  </thead>\n  <tbody>\n    <tr>\n      <th>0</th>\n      <td>Enhed: antal</td>\n      <td>NaN</td>\n      <td>NaN</td>\n      <td>NaN</td>\n      <td>NaN</td>\n      <td>NaN</td>\n      <td>NaN</td>\n      <td>NaN</td>\n      <td>NaN</td>\n      <td>NaN</td>\n      <td>NaN</td>\n      <td>NaN</td>\n      <td>NaN</td>\n      <td>NaN</td>\n      <td>NaN</td>\n      <td>NaN</td>\n      <td>NaN</td>\n      <td>NaN</td>\n      <td>NaN</td>\n      <td>NaN</td>\n    </tr>\n    <tr>\n      <th>1</th>\n      <td>NaN</td>\n      <td>NaN</td>\n      <td>NaN</td>\n      <td>NaN</td>\n      <td>NaN</td>\n      <td>2005.0</td>\n      <td>2006.0</td>\n      <td>2007.0</td>\n      <td>2008.0</td>\n      <td>2009.0</td>\n      <td>2010.0</td>\n      <td>2011.0</td>\n      <td>2012.0</td>\n      <td>2013.0</td>\n      <td>2014.0</td>\n      <td>2015.0</td>\n      <td>2016.0</td>\n      <td>2017.0</td>\n      <td>2018.0</td>\n      <td>2019.0</td>\n    </tr>\n    <tr>\n      <th>2</th>\n      <td>Fuldført</td>\n      <td>Hele landet</td>\n      <td>Mænd og kvinder i alt</td>\n      <td>H10 Grundskole</td>\n      <td>Alder i alt</td>\n      <td>93865.0</td>\n      <td>95634.0</td>\n      <td>94320.0</td>\n      <td>100198.0</td>\n      <td>100715.0</td>\n      <td>102939.0</td>\n      <td>105233.0</td>\n      <td>106509.0</td>\n      <td>104984.0</td>\n      <td>103470.0</td>\n      <td>102982.0</td>\n      <td>103751.0</td>\n      <td>100831.0</td>\n      <td>100202.0</td>\n      <td>101043.0</td>\n    </tr>\n    <tr>\n      <th>3</th>\n      <td>NaN</td>\n      <td>NaN</td>\n      <td>NaN</td>\n      <td>NaN</td>\n      <td>-5 år</td>\n      <td>0.0</td>\n      <td>0.0</td>\n      <td>0.0</td>\n      <td>0.0</td>\n      <td>0.0</td>\n      <td>0.0</td>\n      <td>0.0</td>\n      <td>0.0</td>\n      <td>0.0</td>\n      <td>0.0</td>\n      <td>0.0</td>\n      <td>0.0</td>\n      <td>8.0</td>\n      <td>8.0</td>\n      <td>29.0</td>\n    </tr>\n    <tr>\n      <th>4</th>\n      <td>NaN</td>\n      <td>NaN</td>\n      <td>NaN</td>\n      <td>NaN</td>\n      <td>6 år</td>\n      <td>0.0</td>\n      <td>0.0</td>\n      <td>0.0</td>\n      <td>0.0</td>\n      <td>0.0</td>\n      <td>0.0</td>\n      <td>0.0</td>\n      <td>0.0</td>\n      <td>1.0</td>\n      <td>0.0</td>\n      <td>0.0</td>\n      <td>0.0</td>\n      <td>1.0</td>\n      <td>20.0</td>\n      <td>81.0</td>\n    </tr>\n  </tbody>\n</table>\n</div>"
     },
     "metadata": {},
     "execution_count": 2
    }
   ],
   "source": [
    "#Open the data file and taking a look at it\n",
    "Data = 'Data.xlsx'\n",
    "pd.read_excel(Data).head(5)"
   ]
  },
  {
   "cell_type": "code",
   "execution_count": 3,
   "metadata": {},
   "outputs": [],
   "source": [
    "#Removing the first two rows as they are useless.\n",
    "df = pd.read_excel(Data, skiprows=2)\n",
    "\n",
    "\n",
    "#Removing first 2 columns\n",
    "drop_these = ['Unnamed: 0', 'Unnamed: 1']\n",
    "df.drop(drop_these, axis=1, inplace=True) # axis = 1 -> columns, inplace=True -> changed, no copy made"
   ]
  },
  {
   "cell_type": "code",
   "execution_count": 4,
   "metadata": {},
   "outputs": [],
   "source": [
    "#Renaming the columns\n",
    "df.rename(columns = {'Unnamed: 2':'sex'}, inplace=True)\n",
    "df.rename(columns = {'Unnamed: 3':'education'}, inplace=True)\n",
    "df.rename(columns = {'Unnamed: 4':'age'}, inplace=True)"
   ]
  },
  {
   "cell_type": "code",
   "execution_count": 5,
   "metadata": {},
   "outputs": [],
   "source": [
    "#find index of sex\n",
    "total = df.loc[df[\"sex\"]==\"Mænd og kvinder i alt\"].index\n",
    "male = df.loc[df[\"sex\"]==\"Mænd\"].index\n",
    "female = df.loc[df[\"sex\"]==\"Kvinder\"].index\n",
    "#rename sex to total, male, and female\n",
    "df[\"sex\"][total] = \"total\"\n",
    "df[\"sex\"][male] = \"male\"\n",
    "df[\"sex\"][female] = \"female\""
   ]
  },
  {
   "cell_type": "code",
   "execution_count": 6,
   "metadata": {},
   "outputs": [],
   "source": [
    "#rename nan in sex to floats.\n",
    "for i in range(0,len(df)):\n",
    "    if type(df[\"sex\"][i]) == str:\n",
    "        x = df[\"sex\"][i]\n",
    "    else:\n",
    "        df[\"sex\"][i] = x\n",
    "\n",
    "#rename nan in Education to floats\n",
    "for i in range(0,len(df)):\n",
    "    if type(df[\"education\"][i]) == str:\n",
    "        x = df[\"education\"][i]\n",
    "    else:\n",
    "        df[\"education\"][i] = x"
   ]
  },
  {
   "cell_type": "code",
   "execution_count": 7,
   "metadata": {},
   "outputs": [
    {
     "output_type": "stream",
     "name": "stdout",
     "text": "sex                        education          age  year  \\\n0       total                   H10 Grundskole  Alder i alt  2005   \n1       total                   H10 Grundskole        -5 år  2005   \n2       total                   H10 Grundskole         6 år  2005   \n3       total                   H10 Grundskole         7 år  2005   \n4       total                   H10 Grundskole         8 år  2005   \n...       ...                              ...          ...   ...   \n18340  female  H80 Ph.d. og forskeruddannelser        38 år  2019   \n18341  female  H80 Ph.d. og forskeruddannelser        39 år  2019   \n18342  female  H80 Ph.d. og forskeruddannelser       40 år-  2019   \n18343  female  H80 Ph.d. og forskeruddannelser          NaN  2019   \n18344  female  H80 Ph.d. og forskeruddannelser          NaN  2019   \n\n       uddannelsesaktivitet  \n0                   93865.0  \n1                       0.0  \n2                       0.0  \n3                       0.0  \n4                       0.0  \n...                     ...  \n18340                   0.0  \n18341                   0.0  \n18342                   0.0  \n18343                   NaN  \n18344                   NaN  \n\n[18345 rows x 5 columns]\n"
    }
   ],
   "source": [
    "#Formatting the dataframe to long so it's easier to work with in the interactive table.\n",
    "df_long = pd.melt(df,id_vars=[\"sex\",\"education\",\"age\"], var_name=\"year\",value_name=\"uddannelsesaktivitet\")\n",
    "#Checking data\n",
    "print(df_long)"
   ]
  },
  {
   "cell_type": "code",
   "execution_count": 8,
   "metadata": {},
   "outputs": [],
   "source": [
    "#Creating dropdown options\n",
    "ALL = 'ALL'\n",
    "# defning each option in the data set as unique and adding an option for all.\n",
    "def unique_sorted_values_plus_all(array):\n",
    "    liste = array.values.tolist()\n",
    "    unique = np.unique(liste)\n",
    "    unique.sort()\n",
    "    unique = unique.tolist()\n",
    "    unique.insert(0,ALL)\n",
    "    return unique"
   ]
  },
  {
   "cell_type": "code",
   "execution_count": 9,
   "metadata": {},
   "outputs": [],
   "source": [
    "# Generating dropdown menues\n",
    "dropdown_year = widgets.Dropdown(options=dataproject.unique_sorted_values_plus_all(df_long.year))\n",
    "dropdown_age = widgets.Dropdown(options=dataproject.unique_sorted_values_plus_all(df_long.age))\n",
    "dropdown_sex = widgets.Dropdown(options=dataproject.unique_sorted_values_plus_all(df_long.sex))\n",
    "dropdown_education = widgets.Dropdown(options=dataproject.unique_sorted_values_plus_all(df_long.education))\n",
    "\n",
    "#Defining outputs\n",
    "output = widgets.Output()\n",
    "plot_output = widgets.Output()"
   ]
  },
  {
   "cell_type": "code",
   "execution_count": 10,
   "metadata": {},
   "outputs": [],
   "source": [
    "# Defining the function to later observe.\n",
    "# these are defined in the .ipynb becuase we do not know how to pass the variables through .observe in the next cell.\n",
    "\n",
    "# takes all the dropdowns and dataframe for the function \"filters\" except change instead of year so the .observe on year will look for changes in the year dropdown widget.\n",
    "def dropdown_year_eventhandler(change, dropdown_age = dropdown_age, dropdown_sex = dropdown_sex, dropdown_education = dropdown_education, df_long = df_long, output = output, plot_output = plot_output):\n",
    "    dataproject.filters(change.new, dropdown_age.value, dropdown_sex.value, dropdown_education.value, df_long, output, plot_output)\n",
    "\n",
    "#same as year, but with age and so on.\n",
    "def dropdown_age_eventhandler(change, dropdown_year = dropdown_year, dropdown_sex = dropdown_sex, dropdown_education = dropdown_education, df_long = df_long, output = output, plot_output = plot_output):\n",
    "    dataproject.filters(dropdown_year.value, change.new, dropdown_sex.value, dropdown_education.value, df_long, output, plot_output)\n",
    "\n",
    "def dropdown_sex_eventhandler(change, dropdown_year = dropdown_year, dropdown_age = dropdown_age, dropdown_education = dropdown_education, df_long = df_long, output = output, plot_output = plot_output):\n",
    "    dataproject.filters(dropdown_year.value, dropdown_age.value, change.new, dropdown_education.value, df_long, output, plot_output)\n",
    "\n",
    "def dropdown_education_eventhandler(change, dropdown_year = dropdown_year, dropdown_age = dropdown_age, dropdown_sex = dropdown_sex, df_long = df_long, output = output, plot_output = plot_output):\n",
    "    dataproject.filters(dropdown_year.value, dropdown_age.value, dropdown_sex.value, change.new, df_long, output, plot_output)\n"
   ]
  },
  {
   "cell_type": "code",
   "execution_count": 11,
   "metadata": {},
   "outputs": [],
   "source": [
    "#Observe changes in the dropdown.\n",
    "dropdown_year.observe(\n",
    "dropdown_year_eventhandler, names='value')\n",
    "dropdown_age.observe(\n",
    "dropdown_age_eventhandler, names='value')\n",
    "dropdown_sex.observe(\n",
    "dropdown_sex_eventhandler, names='value')\n",
    "dropdown_education.observe(\n",
    "dropdown_education_eventhandler, names='value')"
   ]
  },
  {
   "cell_type": "code",
   "execution_count": 12,
   "metadata": {},
   "outputs": [
    {
     "output_type": "display_data",
     "data": {
      "text/plain": "Dropdown(options=('ALL', '2005', '2006', '2007', '2008', '2009', '2010', '2011', '2012', '2013', '2014', '2015…",
      "application/vnd.jupyter.widget-view+json": {
       "version_major": 2,
       "version_minor": 0,
       "model_id": "f7742bcfeb864664813c2b84e9d49563"
      }
     },
     "metadata": {}
    },
    {
     "output_type": "display_data",
     "data": {
      "text/plain": "Dropdown(options=('ALL', '-5 år', '10 år', '11 år', '12 år', '13 år', '14 år', '15 år', '16 år', '17 år', '18 …",
      "application/vnd.jupyter.widget-view+json": {
       "version_major": 2,
       "version_minor": 0,
       "model_id": "e743f7e143fe46279611b01cdd0c0643"
      }
     },
     "metadata": {}
    },
    {
     "output_type": "display_data",
     "data": {
      "text/plain": "Dropdown(options=('ALL', 'female', 'male', 'total'), value='ALL')",
      "application/vnd.jupyter.widget-view+json": {
       "version_major": 2,
       "version_minor": 0,
       "model_id": "b667e2a17a204655bcddef777bdb3bf6"
      }
     },
     "metadata": {}
    },
    {
     "output_type": "display_data",
     "data": {
      "text/plain": "Dropdown(options=('ALL', 'H10 Grundskole', 'H15 Forberedende uddannelser', 'H20 Gymnasiale uddannelser', 'H29 …",
      "application/vnd.jupyter.widget-view+json": {
       "version_major": 2,
       "version_minor": 0,
       "model_id": "47cbc6e935364faca066d58d11a76dd7"
      }
     },
     "metadata": {}
    }
   ],
   "source": [
    "#Display dropdown menus\n",
    "display(dropdown_year)\n",
    "display(dropdown_age)\n",
    "display(dropdown_sex)\n",
    "display(dropdown_education)"
   ]
  },
  {
   "cell_type": "code",
   "execution_count": 13,
   "metadata": {},
   "outputs": [
    {
     "output_type": "display_data",
     "data": {
      "text/plain": "Output()",
      "application/vnd.jupyter.widget-view+json": {
       "version_major": 2,
       "version_minor": 0,
       "model_id": "b69a3d6a4ffc468784b1231ce3714ddd"
      }
     },
     "metadata": {}
    }
   ],
   "source": [
    "#Display Table\n",
    "display(output)\n",
    "#Display graph\n",
    "#The graph does not work if there are 1 or less total data points, some options have NaN and will break the graph.\n",
    "#display(plot_output) # ommited because it looks ugly."
   ]
  },
  {
   "cell_type": "code",
   "execution_count": null,
   "metadata": {},
   "outputs": [],
   "source": []
  },
  {
   "cell_type": "code",
   "execution_count": null,
   "metadata": {},
   "outputs": [],
   "source": []
  },
  {
   "cell_type": "code",
   "execution_count": null,
   "metadata": {},
   "outputs": [],
   "source": [
    "data = pd.read_excel (r'Data.xlsx') # import the data\n",
    "# År\n",
    "years = [2005,2006,2007,2008,2009,2010,2011,2012,2013,2014,2015,2016,2017,2018,2019]\n",
    "\n",
    "# Total antal\n",
    "\n",
    "antal_tot_1 = np.array(data.iloc[2,5:20])\n",
    "\n",
    "#print(antal_tot_1)\n",
    "\n",
    "# Alder\n",
    "\n",
    "alder_1 = np.array(data.iloc[3:39,4])\n",
    "\n",
    "#print(alder_1)\n",
    "\n",
    "\n",
    "# Antal\n",
    "\n",
    "i = np.array(range(15))\n",
    "#print(i)\n",
    "antal_test =  np.array(data.iloc[3:39,5+i])\n",
    "antal = antal_test.transpose()\n",
    "#print(antal)\n",
    "\n"
   ]
  },
  {
   "cell_type": "code",
   "execution_count": null,
   "metadata": {},
   "outputs": [],
   "source": [
    "# mænd i 411\n",
    "z = np.array([0, 37, 37*2, 37*3 ,37*4, 37*5, 37*6, 37*7, 37*8, 37*9, 37*10])\n",
    "\n",
    "np.ones(11)\n",
    "\n",
    "alder_m = np.array(data.iloc[410+z[0]:446+z[0],4])\n",
    "\n",
    "#print(alder_m)\n",
    "\n",
    "antal_tot_m = np.array(data.iloc[409+z,5:20])\n",
    "\n",
    "#print(antal_tot_m)\n",
    "\n",
    "uddannelse_m = pd.Series(['Grundskole_m','Forberedende uddannelser_m','Gymnasiale uddannelser_m','Erhvervsfaglige grundforløb_m','Erhvervsfaglige uddannelser_m','Adgangsgivende uddannelsesforløb_m','KVU_m','MVU_m','BACH_m','LVU_m','Ph.d. og forskeruddannelser_m'])\n",
    "uddannelse_k = pd.Series(['Grundskole_k','Forberedende uddannelser_k','Gymnasiale uddannelser_k','Erhvervsfaglige grundforløb_k','Erhvervsfaglige uddannelser_k','Adgangsgivende uddannelsesforløb_k','KVU_k','MVU_k','BACH_k','LVU_k','Ph.d. og forskeruddannelser_k'])\n",
    ""
   ]
  },
  {
   "cell_type": "code",
   "execution_count": null,
   "metadata": {},
   "outputs": [],
   "source": [
    "df_m = pd.DataFrame(\n",
    "    antal_tot_m,\n",
    "    columns = years,\n",
    "    index = uddannelse_m\n",
    ")\n",
    "#print(df_m)\n",
    "df_m.drop('Forberedende uddannelser_m', inplace=True)\n",
    "df_m.drop('Erhvervsfaglige grundforløb_m', inplace=True)\n",
    "\n",
    "df_m\n",
    ""
   ]
  },
  {
   "cell_type": "code",
   "execution_count": null,
   "metadata": {},
   "outputs": [],
   "source": [
    "\n",
    "df_m.T.plot(kind = 'bar', stacked = True)\n",
    "plt.legend(loc='center left', bbox_to_anchor=(1.0, 0.5))\n",
    "\n",
    "plt.show()\n",
    "\n",
    "\n",
    "\n",
    "\n",
    "# Kvinder \n",
    "alder_k = np.array(data.iloc[817+z[0]:853+z[0],4])\n",
    "\n",
    "#print(alder_m)\n",
    "\n",
    "antal_tot_k = np.array(data.iloc[816+z,5:20])\n",
    "\n",
    "#print(antal_tot_m)\n",
    ""
   ]
  },
  {
   "cell_type": "code",
   "execution_count": null,
   "metadata": {},
   "outputs": [],
   "source": [
    "df_k = pd.DataFrame(\n",
    "    antal_tot_k,\n",
    "    columns = years,\n",
    "    index = uddannelse_k\n",
    ")\n",
    "#print(df_k)\n",
    "\n",
    "# Drop\n",
    "df_k.drop('Erhvervsfaglige grundforløb_k', inplace=True)\n",
    "df_k.drop('Forberedende uddannelser_k',inplace=True)\n",
    "\n",
    "df_k"
   ]
  },
  {
   "cell_type": "code",
   "execution_count": null,
   "metadata": {},
   "outputs": [],
   "source": [
    "df_k.T.plot(kind = 'bar', stacked = True)\n",
    "plt.legend(loc='center left', bbox_to_anchor=(1.0, 0.5))\n",
    "\n",
    "plt.show()"
   ]
  },
  {
   "cell_type": "code",
   "execution_count": null,
   "metadata": {},
   "outputs": [],
   "source": [
    "# Appending\n",
    "df_mk = df_m.append(df_k)\n",
    "\n",
    "df_mk\n",
    "\n",
    "df_m.T.plot(kind = 'bar', stacked = True)\n",
    "plt.legend(loc='center left', bbox_to_anchor=(1.0, 0.5))\n",
    "\n",
    "df_k.T.plot(kind = 'bar', stacked = True)\n",
    "plt.legend(loc='center left', bbox_to_anchor=(1.0, 0.5))\n",
    "\n",
    "plt.show()\n",
    "\n",
    ""
   ]
  },
  {
   "cell_type": "code",
   "execution_count": null,
   "metadata": {},
   "outputs": [],
   "source": [
    "i = np.array(range(15))\n",
    "#print(i)\n",
    "antal_test =  np.array(data.iloc[3:39,5+i])\n",
    "antal = antal_test.transpose()\n",
    "#print(antal)\n",
    "\n",
    "\n",
    "#c = np.array(range(36))\n",
    "\n",
    "x_1 = np.array(range(36))\n",
    "x = sorted(x_1,reverse=True)\n",
    "\n",
    "\n",
    "\n",
    "def v(x ,c = 36):\n",
    "    return np.array(range(0, c-x))\n",
    "def w(x):\n",
    "    return sorted(v(x), reverse=True)\n",
    "#print(w(0))\n",
    "\n",
    "#def v:\n",
    "#    if v>0:\n",
    "#        return ()\n",
    "#    if v < 0:\n",
    "#        return\n",
    "    \n",
    "\n",
    "\n",
    "def antal_a_2005(x, i = 0):\n",
    "    return np.array(data.iloc[3+v(x),5+i])\n",
    "\n",
    "\n",
    "#def antal_a_2005(v, c = c, i = 0):\n",
    "#    return np.array(data.iloc[3+c-v,5+i])\n",
    ""
   ]
  }
 ],
 "metadata": {
  "language_info": {
   "name": "python",
   "codemirror_mode": {
    "name": "ipython",
    "version": 3
   },
   "version": "3.7.6-final"
  },
  "orig_nbformat": 2,
  "file_extension": ".py",
  "mimetype": "text/x-python",
  "name": "python",
  "npconvert_exporter": "python",
  "pygments_lexer": "ipython3",
  "version": 3,
  "kernelspec": {
   "name": "python3",
   "display_name": "Python 3"
  }
 },
 "nbformat": 4,
 "nbformat_minor": 2
}