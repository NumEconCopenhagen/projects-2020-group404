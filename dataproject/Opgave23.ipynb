{
 "nbformat": 4,
 "nbformat_minor": 2,
 "metadata": {
  "language_info": {
   "name": "python",
   "codemirror_mode": {
    "name": "ipython",
    "version": 3
   },
   "version": "3.7.6-final"
  },
  "orig_nbformat": 2,
  "file_extension": ".py",
  "mimetype": "text/x-python",
  "name": "python",
  "npconvert_exporter": "python",
  "pygments_lexer": "ipython3",
  "version": 3,
  "kernelspec": {
   "name": "python3",
   "display_name": "Python 3"
  }
 },
 "cells": [
  {
   "cell_type": "code",
   "execution_count": 1,
   "metadata": {},
   "outputs": [
    {
     "output_type": "error",
     "ename": "FileNotFoundError",
     "evalue": "[Errno 2] No such file or directory: 'C:\\\\Users\\\\MathiasUdsen\\\\Desktop\\\\Uni\\\\4. Semester\\\\Program\\\\Opgave 2\\\\Data0.xlsx'",
     "traceback": [
      "\u001b[1;31m---------------------------------------------------------------------------\u001b[0m",
      "\u001b[1;31mFileNotFoundError\u001b[0m                         Traceback (most recent call last)",
      "\u001b[1;32m<ipython-input-1-8fddfafc38b9>\u001b[0m in \u001b[0;36m<module>\u001b[1;34m\u001b[0m\n\u001b[0;32m      5\u001b[0m \u001b[1;32mimport\u001b[0m \u001b[0mtkinter\u001b[0m \u001b[1;32mas\u001b[0m \u001b[0mtk\u001b[0m\u001b[1;33m\u001b[0m\u001b[1;33m\u001b[0m\u001b[0m\n\u001b[0;32m      6\u001b[0m \u001b[1;33m\u001b[0m\u001b[0m\n\u001b[1;32m----> 7\u001b[1;33m \u001b[0mdata\u001b[0m \u001b[1;33m=\u001b[0m \u001b[0mpd\u001b[0m\u001b[1;33m.\u001b[0m\u001b[0mread_excel\u001b[0m \u001b[1;33m(\u001b[0m\u001b[1;34mr'C:\\Users\\MathiasUdsen\\Desktop\\Uni\\4. Semester\\Program\\Opgave 2\\Data0.xlsx'\u001b[0m\u001b[1;33m)\u001b[0m\u001b[1;33m\u001b[0m\u001b[1;33m\u001b[0m\u001b[0m\n\u001b[0m\u001b[0;32m      8\u001b[0m \u001b[1;33m\u001b[0m\u001b[0m\n",
      "\u001b[1;32m~\\anaconda3\\lib\\site-packages\\pandas\\io\\excel\\_base.py\u001b[0m in \u001b[0;36mread_excel\u001b[1;34m(io, sheet_name, header, names, index_col, usecols, squeeze, dtype, engine, converters, true_values, false_values, skiprows, nrows, na_values, keep_default_na, verbose, parse_dates, date_parser, thousands, comment, skipfooter, convert_float, mangle_dupe_cols, **kwds)\u001b[0m\n\u001b[0;32m    302\u001b[0m \u001b[1;33m\u001b[0m\u001b[0m\n\u001b[0;32m    303\u001b[0m     \u001b[1;32mif\u001b[0m \u001b[1;32mnot\u001b[0m \u001b[0misinstance\u001b[0m\u001b[1;33m(\u001b[0m\u001b[0mio\u001b[0m\u001b[1;33m,\u001b[0m \u001b[0mExcelFile\u001b[0m\u001b[1;33m)\u001b[0m\u001b[1;33m:\u001b[0m\u001b[1;33m\u001b[0m\u001b[1;33m\u001b[0m\u001b[0m\n\u001b[1;32m--> 304\u001b[1;33m         \u001b[0mio\u001b[0m \u001b[1;33m=\u001b[0m \u001b[0mExcelFile\u001b[0m\u001b[1;33m(\u001b[0m\u001b[0mio\u001b[0m\u001b[1;33m,\u001b[0m \u001b[0mengine\u001b[0m\u001b[1;33m=\u001b[0m\u001b[0mengine\u001b[0m\u001b[1;33m)\u001b[0m\u001b[1;33m\u001b[0m\u001b[1;33m\u001b[0m\u001b[0m\n\u001b[0m\u001b[0;32m    305\u001b[0m     \u001b[1;32melif\u001b[0m \u001b[0mengine\u001b[0m \u001b[1;32mand\u001b[0m \u001b[0mengine\u001b[0m \u001b[1;33m!=\u001b[0m \u001b[0mio\u001b[0m\u001b[1;33m.\u001b[0m\u001b[0mengine\u001b[0m\u001b[1;33m:\u001b[0m\u001b[1;33m\u001b[0m\u001b[1;33m\u001b[0m\u001b[0m\n\u001b[0;32m    306\u001b[0m         raise ValueError(\n",
      "\u001b[1;32m~\\anaconda3\\lib\\site-packages\\pandas\\io\\excel\\_base.py\u001b[0m in \u001b[0;36m__init__\u001b[1;34m(self, io, engine)\u001b[0m\n\u001b[0;32m    819\u001b[0m         \u001b[0mself\u001b[0m\u001b[1;33m.\u001b[0m\u001b[0m_io\u001b[0m \u001b[1;33m=\u001b[0m \u001b[0mstringify_path\u001b[0m\u001b[1;33m(\u001b[0m\u001b[0mio\u001b[0m\u001b[1;33m)\u001b[0m\u001b[1;33m\u001b[0m\u001b[1;33m\u001b[0m\u001b[0m\n\u001b[0;32m    820\u001b[0m \u001b[1;33m\u001b[0m\u001b[0m\n\u001b[1;32m--> 821\u001b[1;33m         \u001b[0mself\u001b[0m\u001b[1;33m.\u001b[0m\u001b[0m_reader\u001b[0m \u001b[1;33m=\u001b[0m \u001b[0mself\u001b[0m\u001b[1;33m.\u001b[0m\u001b[0m_engines\u001b[0m\u001b[1;33m[\u001b[0m\u001b[0mengine\u001b[0m\u001b[1;33m]\u001b[0m\u001b[1;33m(\u001b[0m\u001b[0mself\u001b[0m\u001b[1;33m.\u001b[0m\u001b[0m_io\u001b[0m\u001b[1;33m)\u001b[0m\u001b[1;33m\u001b[0m\u001b[1;33m\u001b[0m\u001b[0m\n\u001b[0m\u001b[0;32m    822\u001b[0m \u001b[1;33m\u001b[0m\u001b[0m\n\u001b[0;32m    823\u001b[0m     \u001b[1;32mdef\u001b[0m \u001b[0m__fspath__\u001b[0m\u001b[1;33m(\u001b[0m\u001b[0mself\u001b[0m\u001b[1;33m)\u001b[0m\u001b[1;33m:\u001b[0m\u001b[1;33m\u001b[0m\u001b[1;33m\u001b[0m\u001b[0m\n",
      "\u001b[1;32m~\\anaconda3\\lib\\site-packages\\pandas\\io\\excel\\_xlrd.py\u001b[0m in \u001b[0;36m__init__\u001b[1;34m(self, filepath_or_buffer)\u001b[0m\n\u001b[0;32m     19\u001b[0m         \u001b[0merr_msg\u001b[0m \u001b[1;33m=\u001b[0m \u001b[1;34m\"Install xlrd >= 1.0.0 for Excel support\"\u001b[0m\u001b[1;33m\u001b[0m\u001b[1;33m\u001b[0m\u001b[0m\n\u001b[0;32m     20\u001b[0m         \u001b[0mimport_optional_dependency\u001b[0m\u001b[1;33m(\u001b[0m\u001b[1;34m\"xlrd\"\u001b[0m\u001b[1;33m,\u001b[0m \u001b[0mextra\u001b[0m\u001b[1;33m=\u001b[0m\u001b[0merr_msg\u001b[0m\u001b[1;33m)\u001b[0m\u001b[1;33m\u001b[0m\u001b[1;33m\u001b[0m\u001b[0m\n\u001b[1;32m---> 21\u001b[1;33m         \u001b[0msuper\u001b[0m\u001b[1;33m(\u001b[0m\u001b[1;33m)\u001b[0m\u001b[1;33m.\u001b[0m\u001b[0m__init__\u001b[0m\u001b[1;33m(\u001b[0m\u001b[0mfilepath_or_buffer\u001b[0m\u001b[1;33m)\u001b[0m\u001b[1;33m\u001b[0m\u001b[1;33m\u001b[0m\u001b[0m\n\u001b[0m\u001b[0;32m     22\u001b[0m \u001b[1;33m\u001b[0m\u001b[0m\n\u001b[0;32m     23\u001b[0m     \u001b[1;33m@\u001b[0m\u001b[0mproperty\u001b[0m\u001b[1;33m\u001b[0m\u001b[1;33m\u001b[0m\u001b[0m\n",
      "\u001b[1;32m~\\anaconda3\\lib\\site-packages\\pandas\\io\\excel\\_base.py\u001b[0m in \u001b[0;36m__init__\u001b[1;34m(self, filepath_or_buffer)\u001b[0m\n\u001b[0;32m    351\u001b[0m             \u001b[0mself\u001b[0m\u001b[1;33m.\u001b[0m\u001b[0mbook\u001b[0m \u001b[1;33m=\u001b[0m \u001b[0mself\u001b[0m\u001b[1;33m.\u001b[0m\u001b[0mload_workbook\u001b[0m\u001b[1;33m(\u001b[0m\u001b[0mfilepath_or_buffer\u001b[0m\u001b[1;33m)\u001b[0m\u001b[1;33m\u001b[0m\u001b[1;33m\u001b[0m\u001b[0m\n\u001b[0;32m    352\u001b[0m         \u001b[1;32melif\u001b[0m \u001b[0misinstance\u001b[0m\u001b[1;33m(\u001b[0m\u001b[0mfilepath_or_buffer\u001b[0m\u001b[1;33m,\u001b[0m \u001b[0mstr\u001b[0m\u001b[1;33m)\u001b[0m\u001b[1;33m:\u001b[0m\u001b[1;33m\u001b[0m\u001b[1;33m\u001b[0m\u001b[0m\n\u001b[1;32m--> 353\u001b[1;33m             \u001b[0mself\u001b[0m\u001b[1;33m.\u001b[0m\u001b[0mbook\u001b[0m \u001b[1;33m=\u001b[0m \u001b[0mself\u001b[0m\u001b[1;33m.\u001b[0m\u001b[0mload_workbook\u001b[0m\u001b[1;33m(\u001b[0m\u001b[0mfilepath_or_buffer\u001b[0m\u001b[1;33m)\u001b[0m\u001b[1;33m\u001b[0m\u001b[1;33m\u001b[0m\u001b[0m\n\u001b[0m\u001b[0;32m    354\u001b[0m         \u001b[1;32melif\u001b[0m \u001b[0misinstance\u001b[0m\u001b[1;33m(\u001b[0m\u001b[0mfilepath_or_buffer\u001b[0m\u001b[1;33m,\u001b[0m \u001b[0mbytes\u001b[0m\u001b[1;33m)\u001b[0m\u001b[1;33m:\u001b[0m\u001b[1;33m\u001b[0m\u001b[1;33m\u001b[0m\u001b[0m\n\u001b[0;32m    355\u001b[0m             \u001b[0mself\u001b[0m\u001b[1;33m.\u001b[0m\u001b[0mbook\u001b[0m \u001b[1;33m=\u001b[0m \u001b[0mself\u001b[0m\u001b[1;33m.\u001b[0m\u001b[0mload_workbook\u001b[0m\u001b[1;33m(\u001b[0m\u001b[0mBytesIO\u001b[0m\u001b[1;33m(\u001b[0m\u001b[0mfilepath_or_buffer\u001b[0m\u001b[1;33m)\u001b[0m\u001b[1;33m)\u001b[0m\u001b[1;33m\u001b[0m\u001b[1;33m\u001b[0m\u001b[0m\n",
      "\u001b[1;32m~\\anaconda3\\lib\\site-packages\\pandas\\io\\excel\\_xlrd.py\u001b[0m in \u001b[0;36mload_workbook\u001b[1;34m(self, filepath_or_buffer)\u001b[0m\n\u001b[0;32m     34\u001b[0m             \u001b[1;32mreturn\u001b[0m \u001b[0mopen_workbook\u001b[0m\u001b[1;33m(\u001b[0m\u001b[0mfile_contents\u001b[0m\u001b[1;33m=\u001b[0m\u001b[0mdata\u001b[0m\u001b[1;33m)\u001b[0m\u001b[1;33m\u001b[0m\u001b[1;33m\u001b[0m\u001b[0m\n\u001b[0;32m     35\u001b[0m         \u001b[1;32melse\u001b[0m\u001b[1;33m:\u001b[0m\u001b[1;33m\u001b[0m\u001b[1;33m\u001b[0m\u001b[0m\n\u001b[1;32m---> 36\u001b[1;33m             \u001b[1;32mreturn\u001b[0m \u001b[0mopen_workbook\u001b[0m\u001b[1;33m(\u001b[0m\u001b[0mfilepath_or_buffer\u001b[0m\u001b[1;33m)\u001b[0m\u001b[1;33m\u001b[0m\u001b[1;33m\u001b[0m\u001b[0m\n\u001b[0m\u001b[0;32m     37\u001b[0m \u001b[1;33m\u001b[0m\u001b[0m\n\u001b[0;32m     38\u001b[0m     \u001b[1;33m@\u001b[0m\u001b[0mproperty\u001b[0m\u001b[1;33m\u001b[0m\u001b[1;33m\u001b[0m\u001b[0m\n",
      "\u001b[1;32m~\\anaconda3\\lib\\site-packages\\xlrd\\__init__.py\u001b[0m in \u001b[0;36mopen_workbook\u001b[1;34m(filename, logfile, verbosity, use_mmap, file_contents, encoding_override, formatting_info, on_demand, ragged_rows)\u001b[0m\n\u001b[0;32m    109\u001b[0m     \u001b[1;32melse\u001b[0m\u001b[1;33m:\u001b[0m\u001b[1;33m\u001b[0m\u001b[1;33m\u001b[0m\u001b[0m\n\u001b[0;32m    110\u001b[0m         \u001b[0mfilename\u001b[0m \u001b[1;33m=\u001b[0m \u001b[0mos\u001b[0m\u001b[1;33m.\u001b[0m\u001b[0mpath\u001b[0m\u001b[1;33m.\u001b[0m\u001b[0mexpanduser\u001b[0m\u001b[1;33m(\u001b[0m\u001b[0mfilename\u001b[0m\u001b[1;33m)\u001b[0m\u001b[1;33m\u001b[0m\u001b[1;33m\u001b[0m\u001b[0m\n\u001b[1;32m--> 111\u001b[1;33m         \u001b[1;32mwith\u001b[0m \u001b[0mopen\u001b[0m\u001b[1;33m(\u001b[0m\u001b[0mfilename\u001b[0m\u001b[1;33m,\u001b[0m \u001b[1;34m\"rb\"\u001b[0m\u001b[1;33m)\u001b[0m \u001b[1;32mas\u001b[0m \u001b[0mf\u001b[0m\u001b[1;33m:\u001b[0m\u001b[1;33m\u001b[0m\u001b[1;33m\u001b[0m\u001b[0m\n\u001b[0m\u001b[0;32m    112\u001b[0m             \u001b[0mpeek\u001b[0m \u001b[1;33m=\u001b[0m \u001b[0mf\u001b[0m\u001b[1;33m.\u001b[0m\u001b[0mread\u001b[0m\u001b[1;33m(\u001b[0m\u001b[0mpeeksz\u001b[0m\u001b[1;33m)\u001b[0m\u001b[1;33m\u001b[0m\u001b[1;33m\u001b[0m\u001b[0m\n\u001b[0;32m    113\u001b[0m     \u001b[1;32mif\u001b[0m \u001b[0mpeek\u001b[0m \u001b[1;33m==\u001b[0m \u001b[1;34mb\"PK\\x03\\x04\"\u001b[0m\u001b[1;33m:\u001b[0m \u001b[1;31m# a ZIP file\u001b[0m\u001b[1;33m\u001b[0m\u001b[1;33m\u001b[0m\u001b[0m\n",
      "\u001b[1;31mFileNotFoundError\u001b[0m: [Errno 2] No such file or directory: 'C:\\\\Users\\\\MathiasUdsen\\\\Desktop\\\\Uni\\\\4. Semester\\\\Program\\\\Opgave 2\\\\Data0.xlsx'"
     ]
    }
   ],
   "source": [
    "import pandas as pd\n",
    "import numpy as np\n",
    "import matplotlib.pyplot as plt\n",
    "from matplotlib.widgets import Slider\n",
    "import tkinter as tk\n",
    "\n",
    "data = pd.read_excel (r'C:\\Users\\MathiasUdsen\\Desktop\\Uni\\4. Semester\\Program\\Opgave 2\\Data0.xlsx')\n",
    "\n",
    ""
   ]
  },
  {
   "cell_type": "code",
   "execution_count": 2,
   "metadata": {},
   "outputs": [
    {
     "output_type": "error",
     "ename": "NameError",
     "evalue": "name 'data' is not defined",
     "traceback": [
      "\u001b[1;31m---------------------------------------------------------------------------\u001b[0m",
      "\u001b[1;31mNameError\u001b[0m                                 Traceback (most recent call last)",
      "\u001b[1;32m<ipython-input-2-0b7eef206488>\u001b[0m in \u001b[0;36m<module>\u001b[1;34m\u001b[0m\n\u001b[0;32m      4\u001b[0m \u001b[1;31m# Total antal\u001b[0m\u001b[1;33m\u001b[0m\u001b[1;33m\u001b[0m\u001b[1;33m\u001b[0m\u001b[0m\n\u001b[0;32m      5\u001b[0m \u001b[1;33m\u001b[0m\u001b[0m\n\u001b[1;32m----> 6\u001b[1;33m \u001b[0mantal_tot_1\u001b[0m \u001b[1;33m=\u001b[0m \u001b[0mnp\u001b[0m\u001b[1;33m.\u001b[0m\u001b[0marray\u001b[0m\u001b[1;33m(\u001b[0m\u001b[0mdata\u001b[0m\u001b[1;33m.\u001b[0m\u001b[0miloc\u001b[0m\u001b[1;33m[\u001b[0m\u001b[1;36m2\u001b[0m\u001b[1;33m,\u001b[0m\u001b[1;36m5\u001b[0m\u001b[1;33m:\u001b[0m\u001b[1;36m20\u001b[0m\u001b[1;33m]\u001b[0m\u001b[1;33m)\u001b[0m\u001b[1;33m\u001b[0m\u001b[1;33m\u001b[0m\u001b[0m\n\u001b[0m\u001b[0;32m      7\u001b[0m \u001b[1;33m\u001b[0m\u001b[0m\n\u001b[0;32m      8\u001b[0m \u001b[1;31m#print(antal_tot_1)\u001b[0m\u001b[1;33m\u001b[0m\u001b[1;33m\u001b[0m\u001b[1;33m\u001b[0m\u001b[0m\n",
      "\u001b[1;31mNameError\u001b[0m: name 'data' is not defined"
     ]
    }
   ],
   "source": [
    "\n",
    "# År\n",
    "years = [2005,2006,2007,2008,2009,2010,2011,2012,2013,2014,2015,2016,2017,2018,2019]\n",
    "\n",
    "# Total antal\n",
    "\n",
    "antal_tot_1 = np.array(data.iloc[2,5:20])\n",
    "\n",
    "#print(antal_tot_1)\n",
    "\n",
    "# Alder\n",
    "\n",
    "alder_1 = np.array(data.iloc[3:39,4])\n",
    "\n",
    "#print(alder_1)\n",
    "\n",
    "\n",
    "# Antal\n",
    "\n",
    "i = np.array(range(15))\n",
    "#print(i)\n",
    "antal_test =  np.array(data.iloc[3:39,5+i])\n",
    "antal = antal_test.transpose()\n",
    "#print(antal)\n",
    "\n",
    ""
   ]
  },
  {
   "cell_type": "code",
   "execution_count": null,
   "metadata": {},
   "outputs": [],
   "source": [
    "# mænd i 411\n",
    "z = np.array([0, 37, 37*2, 37*3 ,37*4, 37*5, 37*6, 37*7, 37*8, 37*9, 37*10])\n",
    "\n",
    "np.ones(11)\n",
    "\n",
    "alder_m = np.array(data.iloc[410+z[0]:446+z[0],4])\n",
    "\n",
    "#print(alder_m)\n",
    "\n",
    "antal_tot_m = np.array(data.iloc[409+z,5:20])\n",
    "\n",
    "#print(antal_tot_m)\n",
    "\n",
    "uddannelse_m = pd.Series(['Grundskole_m','Forberedende uddannelser_m','Gymnasiale uddannelser_m','Erhvervsfaglige grundforløb_m','Erhvervsfaglige uddannelser_m','Adgangsgivende uddannelsesforløb_m','KVU_m','MVU_m','BACH_m','LVU_m','Ph.d. og forskeruddannelser_m'])\n",
    "uddannelse_k = pd.Series(['Grundskole_k','Forberedende uddannelser_k','Gymnasiale uddannelser_k','Erhvervsfaglige grundforløb_k','Erhvervsfaglige uddannelser_k','Adgangsgivende uddannelsesforløb_k','KVU_k','MVU_k','BACH_k','LVU_k','Ph.d. og forskeruddannelser_k'])\n"
   ]
  },
  {
   "cell_type": "code",
   "execution_count": null,
   "metadata": {},
   "outputs": [],
   "source": [
    "df_m = pd.DataFrame(\n",
    "    antal_tot_m,\n",
    "    columns = years,\n",
    "    index = uddannelse_m\n",
    ")\n",
    "#print(df_m)\n",
    "df_m.drop('Forberedende uddannelser_m', inplace=True)\n",
    "df_m.drop('Erhvervsfaglige grundforløb_m', inplace=True)\n",
    "\n",
    "df_m\n"
   ]
  },
  {
   "cell_type": "code",
   "execution_count": null,
   "metadata": {},
   "outputs": [],
   "source": [
    "\n",
    "df_m.T.plot(kind = 'bar', stacked = True)\n",
    "plt.legend(loc='center left', bbox_to_anchor=(1.0, 0.5))\n",
    "\n",
    "plt.show()\n",
    "\n",
    "\n",
    "\n",
    "\n",
    "# Kvinder \n",
    "alder_k = np.array(data.iloc[817+z[0]:853+z[0],4])\n",
    "\n",
    "#print(alder_m)\n",
    "\n",
    "antal_tot_k = np.array(data.iloc[816+z,5:20])\n",
    "\n",
    "#print(antal_tot_m)\n"
   ]
  },
  {
   "cell_type": "code",
   "execution_count": null,
   "metadata": {},
   "outputs": [],
   "source": [
    "df_k = pd.DataFrame(\n",
    "    antal_tot_k,\n",
    "    columns = years,\n",
    "    index = uddannelse_k\n",
    ")\n",
    "#print(df_k)\n",
    "\n",
    "# Drop\n",
    "df_k.drop('Erhvervsfaglige grundforløb_k', inplace=True)\n",
    "df_k.drop('Forberedende uddannelser_k',inplace=True)\n",
    "\n",
    "df_k"
   ]
  },
  {
   "cell_type": "code",
   "execution_count": null,
   "metadata": {},
   "outputs": [],
   "source": [
    "df_k.T.plot(kind = 'bar', stacked = True)\n",
    "plt.legend(loc='center left', bbox_to_anchor=(1.0, 0.5))\n",
    "\n",
    "plt.show()"
   ]
  },
  {
   "cell_type": "code",
   "execution_count": null,
   "metadata": {},
   "outputs": [],
   "source": [
    "# Appending\n",
    "df_mk = df_m.append(df_k)\n",
    "\n",
    "df_mk\n",
    "\n",
    "df_m.T.plot(kind = 'bar', stacked = True)\n",
    "plt.legend(loc='center left', bbox_to_anchor=(1.0, 0.5))\n",
    "\n",
    "df_k.T.plot(kind = 'bar', stacked = True)\n",
    "plt.legend(loc='center left', bbox_to_anchor=(1.0, 0.5))\n",
    "\n",
    "plt.show()\n",
    "\n"
   ]
  },
  {
   "cell_type": "code",
   "execution_count": null,
   "metadata": {},
   "outputs": [],
   "source": [
    "i = np.array(range(15))\n",
    "#print(i)\n",
    "antal_test =  np.array(data.iloc[3:39,5+i])\n",
    "antal = antal_test.transpose()\n",
    "#print(antal)\n",
    "\n",
    "\n",
    "#c = np.array(range(36))\n",
    "\n",
    "x_1 = np.array(range(36))\n",
    "x = sorted(x_1,reverse=True)\n",
    "\n",
    "\n",
    "\n",
    "def v(x ,c = 36):\n",
    "    return np.array(range(0, c-x))\n",
    "def w(x):\n",
    "    return sorted(v(x), reverse=True)\n",
    "#print(w(0))\n",
    "\n",
    "#def v:\n",
    "#    if v>0:\n",
    "#        return ()\n",
    "#    if v < 0:\n",
    "#        return\n",
    "    \n",
    "\n",
    "\n",
    "def antal_a_2005(x, i = 0):\n",
    "    return np.array(data.iloc[3+v(x),5+i])\n",
    "\n",
    "\n",
    "#def antal_a_2005(v, c = c, i = 0):\n",
    "#    return np.array(data.iloc[3+c-v,5+i])\n"
   ]
  },
  {
   "cell_type": "code",
   "execution_count": null,
   "metadata": {},
   "outputs": [],
   "source": []
  },
  {
   "cell_type": "code",
   "execution_count": null,
   "metadata": {},
   "outputs": [],
   "source": [
    "import os\n",
    "import numpy as np\n",
    "import pandas as pd\n",
    "pd.options.mode.chained_assignment = None\n",
    "import ipywidgets as widgets\n",
    "from IPython.display import display\n",
    "import seaborn as sns\n",
    "import matplotlib.pyplot as plt\n",
    "plt.style.use('seaborn-whitegrid')\n",
    "\n",
    "#Open the data file and taking a look at it\n",
    "Data = 'Data.xlsx'\n",
    "pd.read_excel(Data).head(5)"
   ]
  },
  {
   "cell_type": "code",
   "execution_count": null,
   "metadata": {},
   "outputs": [],
   "source": [
    "#Removing the first two rows as they are useless.\n",
    "df = pd.read_excel(Data, skiprows=2)\n",
    "\n",
    "\n",
    "#Removing first 2 columns\n",
    "drop_these = ['Unnamed: 0', 'Unnamed: 1']\n",
    "df.drop(drop_these, axis=1, inplace=True) # axis = 1 -> columns, inplace=True -> changed, no copy made\n"
   ]
  },
  {
   "cell_type": "code",
   "execution_count": null,
   "metadata": {},
   "outputs": [],
   "source": [
    "#Renaming years because having them as numbers can cause problems\n",
    "#years = {}\n",
    "#for i in range(2005,2019+1): # range from 2008 to but not including 2018\n",
    "#    years[str(i)] = f'year{i}'\n",
    "#df.rename(columns = years, inplace=True)\n",
    "\n",
    "\n",
    "#find index of sex\n",
    "total = df.loc[df[\"sex\"]==\"Mænd og kvinder i alt\"].index\n",
    "male = df.loc[df[\"sex\"]==\"Mænd\"].index\n",
    "female = df.loc[df[\"sex\"]==\"Kvinder\"].index\n",
    "#rename sec to total, male, and female\n",
    "df[\"sex\"][total] = \"total\"\n",
    "df[\"sex\"][male] = \"male\"\n",
    "df[\"sex\"][female] = \"female\""
   ]
  },
  {
   "cell_type": "code",
   "execution_count": null,
   "metadata": {},
   "outputs": [],
   "source": [
    "#rename nan in sex to floats.\n",
    "for i in range(0,len(df)):\n",
    "    if type(df[\"sex\"][i]) == str:\n",
    "        x = df[\"sex\"][i]\n",
    "    else:\n",
    "        df[\"sex\"][i] = x\n",
    "\n",
    "#rename nan in Education to floats\n",
    "for i in range(0,len(df)):\n",
    "    if type(df[\"education\"][i]) == str:\n",
    "        x = df[\"education\"][i]\n",
    "    else:\n",
    "        df[\"education\"][i] = x"
   ]
  },
  {
   "cell_type": "code",
   "execution_count": null,
   "metadata": {},
   "outputs": [],
   "source": [
    "df_long = pd.melt(df,id_vars=[\"sex\",\"education\",\"age\"], var_name=\"year\",value_name=\"uddannelsesaktivitet\")"
   ]
  },
  {
   "cell_type": "code",
   "execution_count": null,
   "metadata": {},
   "outputs": [],
   "source": [
    "df_long"
   ]
  },
  {
   "cell_type": "code",
   "execution_count": null,
   "metadata": {},
   "outputs": [],
   "source": [
    "ALL = 'ALL'\n",
    "\n",
    "def unique_sorted_values_plus_all(array):\n",
    "    liste = array.values.tolist()\n",
    "    unique = np.unique(liste)\n",
    "    unique.sort()\n",
    "    unique = unique.tolist()\n",
    "    unique.insert(0,ALL)\n",
    "    return unique"
   ]
  },
  {
   "cell_type": "code",
   "execution_count": null,
   "metadata": {},
   "outputs": [],
   "source": [
    "dropdown_year = widgets.Dropdown(options=unique_sorted_values_plus_all(df_long.year))\n",
    "dropdown_age = widgets.Dropdown(options=unique_sorted_values_plus_all(df_long.age))\n",
    "dropdown_sex = widgets.Dropdown(options=unique_sorted_values_plus_all(df_long.sex))\n",
    "dropdown_education = widgets.Dropdown(options=unique_sorted_values_plus_all(df_long.education))\n",
    "\n",
    "output = widgets.Output()\n",
    "\n",
    "def filters(year, age, sex, education):\n",
    "    output.clear_output()\n",
    "    \n",
    "    if (year == ALL) & (age == ALL) & (sex == ALL) & (education == ALL):\n",
    "        filters = df_long\n",
    "    elif (year == ALL) & (year == ALL): # everything but age\n",
    "        filters = df_long[df_long.age == age]\n",
    "    elif (age == ALL):\n",
    "        filters = df_long[df_long.year == year]\n",
    "    elif (sex == ALL):\n",
    "        filters = df_long[df_long.year == year]\n",
    "    elif (age == ALL):\n",
    "        filters = df_long[df_long.year == year]\n",
    "    else:\n",
    "        filters = df_long[(df_long.year == year) & (df_long.age == age)]\n",
    "    \n",
    "    with output:\n",
    "        display(filters)\n"
   ]
  },
  {
   "cell_type": "code",
   "execution_count": null,
   "metadata": {},
   "outputs": [],
   "source": [
    "dropdown_year = widgets.Dropdown(options=unique_sorted_values_plus_all(df_long.year))\n",
    "dropdown_age = widgets.Dropdown(options=unique_sorted_values_plus_all(df_long.age))\n",
    "dropdown_sex = widgets.Dropdown(options=unique_sorted_values_plus_all(df_long.sex))\n",
    "dropdown_education = widgets.Dropdown(options=unique_sorted_values_plus_all(df_long.education))\n",
    "\n",
    "output = widgets.Output()\n",
    "plot_output = widgets.Output()\n",
    "\n",
    "def filters(year, age, sex, education):\n",
    "    output.clear_output()\n",
    "    plot_output.clear_output()\n",
    "    \n",
    "    if (year == ALL) & (age == ALL) & (sex == ALL) & (education == ALL): # everything\n",
    "        filters = df_long\n",
    "    elif (age == ALL) & (sex == ALL) & (education == ALL) : # everything but year\n",
    "        filters = df_long[df_long.year == year]\n",
    "    elif (year == ALL) & (sex == ALL) & (education == ALL): # everything but age\n",
    "        filters = df_long[df_long.age == age]\n",
    "    elif (age == ALL) & (year == ALL) & (education == ALL): # everything but sex\n",
    "        filters = df_long[df_long.sex == sex]\n",
    "    elif (age == ALL) & (year == ALL) & (sex == ALL): # everything but education\n",
    "        filters = df_long[df_long.education == education]\n",
    "    elif (sex == ALL) & (education == ALL): # everything but year, age\n",
    "        filters = df_long[(df_long.year == year) & (df_long.age == age)]\n",
    "    elif (age == ALL) & (education == ALL): # everything but year, sex\n",
    "        filters = df_long[(df_long.year == year) & (df_long.sex == sex)]\n",
    "    elif (age == ALL) & (sex == ALL): # everything but year, education\n",
    "        filters = df_long[(df_long.year == year) & (df_long.education == education)]\n",
    "    elif (year == ALL) & (education == ALL): # everything but age sex\n",
    "        filters = df_long[(df_long.age == age) & (df_long.sex == sex)]\n",
    "    elif (year == ALL) & (sex == ALL): # everything but age education\n",
    "        filters = df_long[(df_long.age == age) & (df_long.education == education)]\n",
    "    elif (year == ALL) & (age == ALL): # everything but sex education\n",
    "        filters = df_long[(df_long.sex == sex) & (df_long.education == education)]\n",
    "    elif (year == ALL): # everything but age sex education\n",
    "        filters = df_long[(df_long.age == age) & (df_long.sex == sex) & (df_long.education == education)]\n",
    "    elif (age == ALL): # everything but year sex education\n",
    "        filters = df_long[(df_long.year == year) & (df_long.sex == sex) & (df_long.education == education)]\n",
    "    elif (sex == ALL): # everything but year age education\n",
    "        filters = df_long[(df_long.year == year) & (df_long.age == age) & (df_long.education == education)]\n",
    "    elif (education == ALL): # everything but year age sex\n",
    "        filters = df_long[(df_long.year == year) & (df_long.age == age) & (df_long.sex == sex)]\n",
    "    else:\n",
    "        filters = df_long[(df_long.year == year) & (df_long.age == age) & (df_long.sex == sex) & (df_long.education == education)]\n",
    "    \n",
    "    with output:\n",
    "        display(filters)\n",
    "    with plot_output:\n",
    "        sns.kdeplot(filters['uddannelsesaktivitet'], shade=True)\n",
    "        plt.show()\n"
   ]
  },
  {
   "cell_type": "code",
   "execution_count": null,
   "metadata": {},
   "outputs": [],
   "source": [
    "def dropdown_year_eventhandler(change):\n",
    "    filters(change.new, dropdown_age.value, dropdown_sex.value, dropdown_education.value)\n",
    "def dropdown_age_eventhandler(change):\n",
    "    filters(dropdown_year.value, change.new, dropdown_sex.value, dropdown_education.value)\n",
    "def dropdown_sex_eventhandler(change):\n",
    "    filters(dropdown_year.value, dropdown_age.value, change.new, dropdown_education.value)\n",
    "def dropdown_education_eventhandler(change):\n",
    "    filters(dropdown_year.value, dropdown_age.value, dropdown_sex.value, change.new)"
   ]
  },
  {
   "cell_type": "code",
   "execution_count": null,
   "metadata": {},
   "outputs": [],
   "source": [
    "dropdown_year.observe(\n",
    "dropdown_year_eventhandler, names='value')\n",
    "dropdown_age.observe(\n",
    "dropdown_age_eventhandler, names='value')\n",
    "dropdown_sex.observe(\n",
    "dropdown_sex_eventhandler, names='value')\n",
    "dropdown_education.observe(\n",
    "dropdown_education_eventhandler, names='value')"
   ]
  },
  {
   "cell_type": "code",
   "execution_count": null,
   "metadata": {},
   "outputs": [],
   "source": [
    "display(dropdown_year)\n",
    "display(dropdown_age)\n",
    "display(dropdown_sex)\n",
    "display(dropdown_education)"
   ]
  },
  {
   "cell_type": "code",
   "execution_count": null,
   "metadata": {},
   "outputs": [],
   "source": [
    "display(output)\n",
    "display(plot_output)"
   ]
  },
  {
   "cell_type": "code",
   "execution_count": null,
   "metadata": {},
   "outputs": [],
   "source": [
    "def plot_e(df, sex, education, age): \n",
    "    I = df['sex'] == sex\n",
    "    ax=df.loc[I,:].plot(x='year', y='uddannelsesaktivitet', style='-o', legend=False)"
   ]
  },
  {
   "cell_type": "code",
   "execution_count": null,
   "metadata": {},
   "outputs": [],
   "source": [
    "widgets.interact(plot_e, \n",
    "    df = widgets.fixed(df_long),\n",
    "    sex = widgets.Dropdown(description='sex', \n",
    "                                    options=df_long.sex.unique(), \n",
    "                                    value='female'),\n",
    "    education = widgets.Dropdown(description='education', options=df_long.education.unique(), value='H10 Grundskole'),\n",
    "    age = widgets.Dropdown(description='age', options=df_long.age.unique(), value='10 år')\n",
    "); "
   ]
  }
 ]
}