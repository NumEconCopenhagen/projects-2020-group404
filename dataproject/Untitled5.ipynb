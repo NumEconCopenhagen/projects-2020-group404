{
 "cells": [
  {
   "cell_type": "code",
   "execution_count": 22,
   "metadata": {},
   "outputs": [
    {
     "data": {
      "text/html": [
       "<div>\n",
       "<style scoped>\n",
       "    .dataframe tbody tr th:only-of-type {\n",
       "        vertical-align: middle;\n",
       "    }\n",
       "\n",
       "    .dataframe tbody tr th {\n",
       "        vertical-align: top;\n",
       "    }\n",
       "\n",
       "    .dataframe thead th {\n",
       "        text-align: right;\n",
       "    }\n",
       "</style>\n",
       "<table border=\"1\" class=\"dataframe\">\n",
       "  <thead>\n",
       "    <tr style=\"text-align: right;\">\n",
       "      <th></th>\n",
       "      <th>Uddannelsesaktivitet efter status, bopælsområde, køn, uddannelse, alder og tid</th>\n",
       "      <th>Unnamed: 1</th>\n",
       "      <th>Unnamed: 2</th>\n",
       "      <th>Unnamed: 3</th>\n",
       "      <th>Unnamed: 4</th>\n",
       "      <th>Unnamed: 5</th>\n",
       "      <th>Unnamed: 6</th>\n",
       "      <th>Unnamed: 7</th>\n",
       "      <th>Unnamed: 8</th>\n",
       "      <th>Unnamed: 9</th>\n",
       "      <th>Unnamed: 10</th>\n",
       "      <th>Unnamed: 11</th>\n",
       "      <th>Unnamed: 12</th>\n",
       "      <th>Unnamed: 13</th>\n",
       "      <th>Unnamed: 14</th>\n",
       "      <th>Unnamed: 15</th>\n",
       "      <th>Unnamed: 16</th>\n",
       "      <th>Unnamed: 17</th>\n",
       "      <th>Unnamed: 18</th>\n",
       "      <th>Unnamed: 19</th>\n",
       "    </tr>\n",
       "  </thead>\n",
       "  <tbody>\n",
       "    <tr>\n",
       "      <th>0</th>\n",
       "      <td>Enhed: antal</td>\n",
       "      <td>NaN</td>\n",
       "      <td>NaN</td>\n",
       "      <td>NaN</td>\n",
       "      <td>NaN</td>\n",
       "      <td>NaN</td>\n",
       "      <td>NaN</td>\n",
       "      <td>NaN</td>\n",
       "      <td>NaN</td>\n",
       "      <td>NaN</td>\n",
       "      <td>NaN</td>\n",
       "      <td>NaN</td>\n",
       "      <td>NaN</td>\n",
       "      <td>NaN</td>\n",
       "      <td>NaN</td>\n",
       "      <td>NaN</td>\n",
       "      <td>NaN</td>\n",
       "      <td>NaN</td>\n",
       "      <td>NaN</td>\n",
       "      <td>NaN</td>\n",
       "    </tr>\n",
       "    <tr>\n",
       "      <th>1</th>\n",
       "      <td>NaN</td>\n",
       "      <td>NaN</td>\n",
       "      <td>NaN</td>\n",
       "      <td>NaN</td>\n",
       "      <td>NaN</td>\n",
       "      <td>2005.0</td>\n",
       "      <td>2006.0</td>\n",
       "      <td>2007.0</td>\n",
       "      <td>2008.0</td>\n",
       "      <td>2009.0</td>\n",
       "      <td>2010.0</td>\n",
       "      <td>2011.0</td>\n",
       "      <td>2012.0</td>\n",
       "      <td>2013.0</td>\n",
       "      <td>2014.0</td>\n",
       "      <td>2015.0</td>\n",
       "      <td>2016.0</td>\n",
       "      <td>2017.0</td>\n",
       "      <td>2018.0</td>\n",
       "      <td>2019.0</td>\n",
       "    </tr>\n",
       "    <tr>\n",
       "      <th>2</th>\n",
       "      <td>Fuldført</td>\n",
       "      <td>Hele landet</td>\n",
       "      <td>Mænd og kvinder i alt</td>\n",
       "      <td>H10 Grundskole</td>\n",
       "      <td>Alder i alt</td>\n",
       "      <td>93865.0</td>\n",
       "      <td>95634.0</td>\n",
       "      <td>94320.0</td>\n",
       "      <td>100198.0</td>\n",
       "      <td>100715.0</td>\n",
       "      <td>102939.0</td>\n",
       "      <td>105233.0</td>\n",
       "      <td>106509.0</td>\n",
       "      <td>104984.0</td>\n",
       "      <td>103470.0</td>\n",
       "      <td>102982.0</td>\n",
       "      <td>103751.0</td>\n",
       "      <td>100831.0</td>\n",
       "      <td>100202.0</td>\n",
       "      <td>101043.0</td>\n",
       "    </tr>\n",
       "    <tr>\n",
       "      <th>3</th>\n",
       "      <td>NaN</td>\n",
       "      <td>NaN</td>\n",
       "      <td>NaN</td>\n",
       "      <td>NaN</td>\n",
       "      <td>-5 år</td>\n",
       "      <td>0.0</td>\n",
       "      <td>0.0</td>\n",
       "      <td>0.0</td>\n",
       "      <td>0.0</td>\n",
       "      <td>0.0</td>\n",
       "      <td>0.0</td>\n",
       "      <td>0.0</td>\n",
       "      <td>0.0</td>\n",
       "      <td>0.0</td>\n",
       "      <td>0.0</td>\n",
       "      <td>0.0</td>\n",
       "      <td>0.0</td>\n",
       "      <td>8.0</td>\n",
       "      <td>8.0</td>\n",
       "      <td>29.0</td>\n",
       "    </tr>\n",
       "    <tr>\n",
       "      <th>4</th>\n",
       "      <td>NaN</td>\n",
       "      <td>NaN</td>\n",
       "      <td>NaN</td>\n",
       "      <td>NaN</td>\n",
       "      <td>6 år</td>\n",
       "      <td>0.0</td>\n",
       "      <td>0.0</td>\n",
       "      <td>0.0</td>\n",
       "      <td>0.0</td>\n",
       "      <td>0.0</td>\n",
       "      <td>0.0</td>\n",
       "      <td>0.0</td>\n",
       "      <td>0.0</td>\n",
       "      <td>1.0</td>\n",
       "      <td>0.0</td>\n",
       "      <td>0.0</td>\n",
       "      <td>0.0</td>\n",
       "      <td>1.0</td>\n",
       "      <td>20.0</td>\n",
       "      <td>81.0</td>\n",
       "    </tr>\n",
       "  </tbody>\n",
       "</table>\n",
       "</div>"
      ],
      "text/plain": [
       "  Uddannelsesaktivitet efter status, bopælsområde, køn, uddannelse, alder og tid  \\\n",
       "0                                       Enhed: antal                               \n",
       "1                                                NaN                               \n",
       "2                                           Fuldført                               \n",
       "3                                                NaN                               \n",
       "4                                                NaN                               \n",
       "\n",
       "    Unnamed: 1             Unnamed: 2      Unnamed: 3   Unnamed: 4  \\\n",
       "0          NaN                    NaN             NaN          NaN   \n",
       "1          NaN                    NaN             NaN          NaN   \n",
       "2  Hele landet  Mænd og kvinder i alt  H10 Grundskole  Alder i alt   \n",
       "3          NaN                    NaN             NaN        -5 år   \n",
       "4          NaN                    NaN             NaN         6 år   \n",
       "\n",
       "   Unnamed: 5  Unnamed: 6  Unnamed: 7  Unnamed: 8  Unnamed: 9  Unnamed: 10  \\\n",
       "0         NaN         NaN         NaN         NaN         NaN          NaN   \n",
       "1      2005.0      2006.0      2007.0      2008.0      2009.0       2010.0   \n",
       "2     93865.0     95634.0     94320.0    100198.0    100715.0     102939.0   \n",
       "3         0.0         0.0         0.0         0.0         0.0          0.0   \n",
       "4         0.0         0.0         0.0         0.0         0.0          0.0   \n",
       "\n",
       "   Unnamed: 11  Unnamed: 12  Unnamed: 13  Unnamed: 14  Unnamed: 15  \\\n",
       "0          NaN          NaN          NaN          NaN          NaN   \n",
       "1       2011.0       2012.0       2013.0       2014.0       2015.0   \n",
       "2     105233.0     106509.0     104984.0     103470.0     102982.0   \n",
       "3          0.0          0.0          0.0          0.0          0.0   \n",
       "4          0.0          0.0          1.0          0.0          0.0   \n",
       "\n",
       "   Unnamed: 16  Unnamed: 17  Unnamed: 18  Unnamed: 19  \n",
       "0          NaN          NaN          NaN          NaN  \n",
       "1       2016.0       2017.0       2018.0       2019.0  \n",
       "2     103751.0     100831.0     100202.0     101043.0  \n",
       "3          0.0          8.0          8.0         29.0  \n",
       "4          0.0          1.0         20.0         81.0  "
      ]
     },
     "execution_count": 22,
     "metadata": {},
     "output_type": "execute_result"
    }
   ],
   "source": [
    "import os\n",
    "import numpy as np\n",
    "import pandas as pd\n",
    "pd.options.mode.chained_assignment = None\n",
    "import ipywidgets as widgets\n",
    "from IPython.display import display\n",
    "import seaborn as sns\n",
    "import matplotlib.pyplot as plt\n",
    "plt.style.use('seaborn-whitegrid')\n",
    "\n",
    "#Open the data file and taking a look at it\n",
    "Data = 'Data.xlsx'\n",
    "pd.read_excel(Data).head(5)"
   ]
  },
  {
   "cell_type": "code",
   "execution_count": 2,
   "metadata": {},
   "outputs": [],
   "source": [
    "#Removing the first two rows as they are useless.\n",
    "df = pd.read_excel(Data, skiprows=2)\n",
    "\n",
    "\n",
    "#Removing first 2 columns\n",
    "drop_these = ['Unnamed: 0', 'Unnamed: 1']\n",
    "df.drop(drop_these, axis=1, inplace=True) # axis = 1 -> columns, inplace=True -> changed, no copy made\n"
   ]
  },
  {
   "cell_type": "code",
   "execution_count": 3,
   "metadata": {},
   "outputs": [],
   "source": [
    "#Renaming the columns\n",
    "df.rename(columns = {'Unnamed: 2':'sex'}, inplace=True)\n",
    "df.rename(columns = {'Unnamed: 3':'education'}, inplace=True)\n",
    "df.rename(columns = {'Unnamed: 4':'age'}, inplace=True)"
   ]
  },
  {
   "cell_type": "code",
   "execution_count": 4,
   "metadata": {},
   "outputs": [],
   "source": [
    "#Renaming years because having them as numbers can cause problems\n",
    "#years = {}\n",
    "#for i in range(2005,2019+1): # range from 2008 to but not including 2018\n",
    "#    years[str(i)] = f'year{i}'\n",
    "#df.rename(columns = years, inplace=True)\n",
    "\n",
    "\n",
    "#find index of sex\n",
    "total = df.loc[df[\"sex\"]==\"Mænd og kvinder i alt\"].index\n",
    "male = df.loc[df[\"sex\"]==\"Mænd\"].index\n",
    "female = df.loc[df[\"sex\"]==\"Kvinder\"].index\n",
    "#rename sec to total, male, and female\n",
    "df[\"sex\"][total] = \"total\"\n",
    "df[\"sex\"][male] = \"male\"\n",
    "df[\"sex\"][female] = \"female\""
   ]
  },
  {
   "cell_type": "code",
   "execution_count": 5,
   "metadata": {},
   "outputs": [],
   "source": [
    "#rename nan in sex to floats.\n",
    "for i in range(0,len(df)):\n",
    "    if type(df[\"sex\"][i]) == str:\n",
    "        x = df[\"sex\"][i]\n",
    "    else:\n",
    "        df[\"sex\"][i] = x\n",
    "\n",
    "#rename nan in Education to floats\n",
    "for i in range(0,len(df)):\n",
    "    if type(df[\"education\"][i]) == str:\n",
    "        x = df[\"education\"][i]\n",
    "    else:\n",
    "        df[\"education\"][i] = x"
   ]
  },
  {
   "cell_type": "code",
   "execution_count": 6,
   "metadata": {},
   "outputs": [],
   "source": [
    "df_long = pd.melt(df,id_vars=[\"sex\",\"education\",\"age\"], var_name=\"year\",value_name=\"uddannelsesaktivitet\")"
   ]
  },
  {
   "cell_type": "code",
   "execution_count": 7,
   "metadata": {},
   "outputs": [
    {
     "data": {
      "text/html": [
       "<div>\n",
       "<style scoped>\n",
       "    .dataframe tbody tr th:only-of-type {\n",
       "        vertical-align: middle;\n",
       "    }\n",
       "\n",
       "    .dataframe tbody tr th {\n",
       "        vertical-align: top;\n",
       "    }\n",
       "\n",
       "    .dataframe thead th {\n",
       "        text-align: right;\n",
       "    }\n",
       "</style>\n",
       "<table border=\"1\" class=\"dataframe\">\n",
       "  <thead>\n",
       "    <tr style=\"text-align: right;\">\n",
       "      <th></th>\n",
       "      <th>sex</th>\n",
       "      <th>education</th>\n",
       "      <th>age</th>\n",
       "      <th>year</th>\n",
       "      <th>uddannelsesaktivitet</th>\n",
       "    </tr>\n",
       "  </thead>\n",
       "  <tbody>\n",
       "    <tr>\n",
       "      <th>0</th>\n",
       "      <td>total</td>\n",
       "      <td>H10 Grundskole</td>\n",
       "      <td>Alder i alt</td>\n",
       "      <td>2005</td>\n",
       "      <td>93865.0</td>\n",
       "    </tr>\n",
       "    <tr>\n",
       "      <th>1</th>\n",
       "      <td>total</td>\n",
       "      <td>H10 Grundskole</td>\n",
       "      <td>-5 år</td>\n",
       "      <td>2005</td>\n",
       "      <td>0.0</td>\n",
       "    </tr>\n",
       "    <tr>\n",
       "      <th>2</th>\n",
       "      <td>total</td>\n",
       "      <td>H10 Grundskole</td>\n",
       "      <td>6 år</td>\n",
       "      <td>2005</td>\n",
       "      <td>0.0</td>\n",
       "    </tr>\n",
       "    <tr>\n",
       "      <th>3</th>\n",
       "      <td>total</td>\n",
       "      <td>H10 Grundskole</td>\n",
       "      <td>7 år</td>\n",
       "      <td>2005</td>\n",
       "      <td>0.0</td>\n",
       "    </tr>\n",
       "    <tr>\n",
       "      <th>4</th>\n",
       "      <td>total</td>\n",
       "      <td>H10 Grundskole</td>\n",
       "      <td>8 år</td>\n",
       "      <td>2005</td>\n",
       "      <td>0.0</td>\n",
       "    </tr>\n",
       "    <tr>\n",
       "      <th>...</th>\n",
       "      <td>...</td>\n",
       "      <td>...</td>\n",
       "      <td>...</td>\n",
       "      <td>...</td>\n",
       "      <td>...</td>\n",
       "    </tr>\n",
       "    <tr>\n",
       "      <th>18340</th>\n",
       "      <td>female</td>\n",
       "      <td>H80 Ph.d. og forskeruddannelser</td>\n",
       "      <td>38 år</td>\n",
       "      <td>2019</td>\n",
       "      <td>0.0</td>\n",
       "    </tr>\n",
       "    <tr>\n",
       "      <th>18341</th>\n",
       "      <td>female</td>\n",
       "      <td>H80 Ph.d. og forskeruddannelser</td>\n",
       "      <td>39 år</td>\n",
       "      <td>2019</td>\n",
       "      <td>0.0</td>\n",
       "    </tr>\n",
       "    <tr>\n",
       "      <th>18342</th>\n",
       "      <td>female</td>\n",
       "      <td>H80 Ph.d. og forskeruddannelser</td>\n",
       "      <td>40 år-</td>\n",
       "      <td>2019</td>\n",
       "      <td>0.0</td>\n",
       "    </tr>\n",
       "    <tr>\n",
       "      <th>18343</th>\n",
       "      <td>female</td>\n",
       "      <td>H80 Ph.d. og forskeruddannelser</td>\n",
       "      <td>NaN</td>\n",
       "      <td>2019</td>\n",
       "      <td>NaN</td>\n",
       "    </tr>\n",
       "    <tr>\n",
       "      <th>18344</th>\n",
       "      <td>female</td>\n",
       "      <td>H80 Ph.d. og forskeruddannelser</td>\n",
       "      <td>NaN</td>\n",
       "      <td>2019</td>\n",
       "      <td>NaN</td>\n",
       "    </tr>\n",
       "  </tbody>\n",
       "</table>\n",
       "<p>18345 rows × 5 columns</p>\n",
       "</div>"
      ],
      "text/plain": [
       "          sex                        education          age  year  \\\n",
       "0       total                   H10 Grundskole  Alder i alt  2005   \n",
       "1       total                   H10 Grundskole        -5 år  2005   \n",
       "2       total                   H10 Grundskole         6 år  2005   \n",
       "3       total                   H10 Grundskole         7 år  2005   \n",
       "4       total                   H10 Grundskole         8 år  2005   \n",
       "...       ...                              ...          ...   ...   \n",
       "18340  female  H80 Ph.d. og forskeruddannelser        38 år  2019   \n",
       "18341  female  H80 Ph.d. og forskeruddannelser        39 år  2019   \n",
       "18342  female  H80 Ph.d. og forskeruddannelser       40 år-  2019   \n",
       "18343  female  H80 Ph.d. og forskeruddannelser          NaN  2019   \n",
       "18344  female  H80 Ph.d. og forskeruddannelser          NaN  2019   \n",
       "\n",
       "       uddannelsesaktivitet  \n",
       "0                   93865.0  \n",
       "1                       0.0  \n",
       "2                       0.0  \n",
       "3                       0.0  \n",
       "4                       0.0  \n",
       "...                     ...  \n",
       "18340                   0.0  \n",
       "18341                   0.0  \n",
       "18342                   0.0  \n",
       "18343                   NaN  \n",
       "18344                   NaN  \n",
       "\n",
       "[18345 rows x 5 columns]"
      ]
     },
     "execution_count": 7,
     "metadata": {},
     "output_type": "execute_result"
    }
   ],
   "source": [
    "df_long"
   ]
  },
  {
   "cell_type": "code",
   "execution_count": 8,
   "metadata": {},
   "outputs": [],
   "source": [
    "ALL = 'ALL'\n",
    "\n",
    "def unique_sorted_values_plus_all(array):\n",
    "    liste = array.values.tolist()\n",
    "    unique = np.unique(liste)\n",
    "    unique.sort()\n",
    "    unique = unique.tolist()\n",
    "    unique.insert(0,ALL)\n",
    "    return unique"
   ]
  },
  {
   "cell_type": "code",
   "execution_count": 9,
   "metadata": {},
   "outputs": [
    {
     "data": {
      "application/vnd.jupyter.widget-view+json": {
       "model_id": "ec99b381f7ac4e12ad7be0dd636fa672",
       "version_major": 2,
       "version_minor": 0
      },
      "text/plain": [
       "Dropdown(options=('ALL', '2005', '2006', '2007', '2008', '2009', '2010', '2011', '2012', '2013', '2014', '2015…"
      ]
     },
     "metadata": {},
     "output_type": "display_data"
    }
   ],
   "source": [
    "dropdown_year = widgets.Dropdown(options=unique_sorted_values_plus_all(df_long.year))\n",
    "dropdown_age = widgets.Dropdown(options=unique_sorted_values_plus_all(df_long.age))\n",
    "\n",
    "output = widgets.Output()\n",
    "\n",
    "def dropdown_year_eventhandler(change):\n",
    "    output.clear_output()\n",
    "    with output:\n",
    "        if (change.new == ALL):\n",
    "            display(df_long)\n",
    "        else:\n",
    "            display(df_long[df_long.year == change.new])\n",
    "            \n",
    "dropdown_year.observe(dropdown_year_eventhandler, names='value')\n",
    "\n",
    "display(dropdown_year)"
   ]
  },
  {
   "cell_type": "code",
   "execution_count": 10,
   "metadata": {},
   "outputs": [
    {
     "data": {
      "application/vnd.jupyter.widget-view+json": {
       "model_id": "189904a1bc104c52b218e32b5416feb7",
       "version_major": 2,
       "version_minor": 0
      },
      "text/plain": [
       "Output()"
      ]
     },
     "metadata": {},
     "output_type": "display_data"
    }
   ],
   "source": [
    "display(output)"
   ]
  },
  {
   "cell_type": "code",
   "execution_count": 11,
   "metadata": {},
   "outputs": [],
   "source": [
    "dropdown_year = widgets.Dropdown(options=unique_sorted_values_plus_all(df_long.year))\n",
    "dropdown_age = widgets.Dropdown(options=unique_sorted_values_plus_all(df_long.age))\n",
    "dropdown_sex = widgets.Dropdown(options=unique_sorted_values_plus_all(df_long.sex))\n",
    "dropdown_education = widgets.Dropdown(options=unique_sorted_values_plus_all(df_long.education))\n",
    "\n",
    "output = widgets.Output()\n",
    "\n",
    "def filters(year, age, sex, education):\n",
    "    output.clear_output()\n",
    "    \n",
    "    if (year == ALL) & (age == ALL) & (sex == ALL) & (education == ALL):\n",
    "        filters = df_long\n",
    "    elif (year == ALL) & (year == ALL): # everything but age\n",
    "        filters = df_long[df_long.age == age]\n",
    "    elif (age == ALL):\n",
    "        filters = df_long[df_long.year == year]\n",
    "    elif (sex == ALL):\n",
    "        filters = df_long[df_long.year == year]\n",
    "    elif (age == ALL):\n",
    "        filters = df_long[df_long.year == year]\n",
    "    else:\n",
    "        filters = df_long[(df_long.year == year) & (df_long.age == age)]\n",
    "    \n",
    "    with output:\n",
    "        display(filters)\n"
   ]
  },
  {
   "cell_type": "code",
   "execution_count": 39,
   "metadata": {},
   "outputs": [],
   "source": [
    "dropdown_year = widgets.Dropdown(options=unique_sorted_values_plus_all(df_long.year))\n",
    "dropdown_age = widgets.Dropdown(options=unique_sorted_values_plus_all(df_long.age))\n",
    "dropdown_sex = widgets.Dropdown(options=unique_sorted_values_plus_all(df_long.sex))\n",
    "dropdown_education = widgets.Dropdown(options=unique_sorted_values_plus_all(df_long.education))\n",
    "\n",
    "output = widgets.Output()\n",
    "plot_output = widgets.Output()\n",
    "\n",
    "def filters(year, age, sex, education):\n",
    "    output.clear_output()\n",
    "    plot_output.clear_output()\n",
    "    \n",
    "    if (year == ALL) & (age == ALL) & (sex == ALL) & (education == ALL): # everything\n",
    "        filters = df_long\n",
    "    elif (age == ALL) & (sex == ALL) & (education == ALL) : # everything but year\n",
    "        filters = df_long[df_long.year == year]\n",
    "    elif (year == ALL) & (sex == ALL) & (education == ALL): # everything but age\n",
    "        filters = df_long[df_long.age == age]\n",
    "    elif (age == ALL) & (year == ALL) & (education == ALL): # everything but sex\n",
    "        filters = df_long[df_long.sex == sex]\n",
    "    elif (age == ALL) & (year == ALL) & (sex == ALL): # everything but education\n",
    "        filters = df_long[df_long.education == education]\n",
    "    elif (sex == ALL) & (education == ALL): # everything but year, age\n",
    "        filters = df_long[(df_long.year == year) & (df_long.age == age)]\n",
    "    elif (age == ALL) & (education == ALL): # everything but year, sex\n",
    "        filters = df_long[(df_long.year == year) & (df_long.sex == sex)]\n",
    "    elif (age == ALL) & (sex == ALL): # everything but year, education\n",
    "        filters = df_long[(df_long.year == year) & (df_long.education == education)]\n",
    "    elif (year == ALL) & (education == ALL): # everything but age sex\n",
    "        filters = df_long[(df_long.age == age) & (df_long.sex == sex)]\n",
    "    elif (year == ALL) & (sex == ALL): # everything but age education\n",
    "        filters = df_long[(df_long.age == age) & (df_long.education == education)]\n",
    "    elif (year == ALL) & (age == ALL): # everything but sex education\n",
    "        filters = df_long[(df_long.sex == sex) & (df_long.education == education)]\n",
    "    elif (year == ALL): # everything but age sex education\n",
    "        filters = df_long[(df_long.age == age) & (df_long.sex == sex) & (df_long.education == education)]\n",
    "    elif (age == ALL): # everything but year sex education\n",
    "        filters = df_long[(df_long.year == year) & (df_long.sex == sex) & (df_long.education == education)]\n",
    "    elif (sex == ALL): # everything but year age education\n",
    "        filters = df_long[(df_long.year == year) & (df_long.age == age) & (df_long.education == education)]\n",
    "    elif (education == ALL): # everything but year age sex\n",
    "        filters = df_long[(df_long.year == year) & (df_long.age == age) & (df_long.sex == sex)]\n",
    "    else:\n",
    "        filters = df_long[(df_long.year == year) & (df_long.age == age) & (df_long.sex == sex) & (df_long.education == education)]\n",
    "    \n",
    "    with output:\n",
    "        display(filters)\n",
    "    with plot_output:\n",
    "        sns.kdeplot(filters['uddannelsesaktivitet'], shade=True)\n",
    "        plt.show()\n"
   ]
  },
  {
   "cell_type": "code",
   "execution_count": 40,
   "metadata": {},
   "outputs": [],
   "source": [
    "def dropdown_year_eventhandler(change):\n",
    "    filters(change.new, dropdown_age.value, dropdown_sex.value, dropdown_education.value)\n",
    "def dropdown_age_eventhandler(change):\n",
    "    filters(dropdown_year.value, change.new, dropdown_sex.value, dropdown_education.value)\n",
    "def dropdown_sex_eventhandler(change):\n",
    "    filters(dropdown_year.value, dropdown_age.value, change.new, dropdown_education.value)\n",
    "def dropdown_education_eventhandler(change):\n",
    "    filters(dropdown_year.value, dropdown_age.value, dropdown_sex.value, change.new)"
   ]
  },
  {
   "cell_type": "code",
   "execution_count": 41,
   "metadata": {},
   "outputs": [],
   "source": [
    "dropdown_year.observe(\n",
    "dropdown_year_eventhandler, names='value')\n",
    "dropdown_age.observe(\n",
    "dropdown_age_eventhandler, names='value')\n",
    "dropdown_sex.observe(\n",
    "dropdown_sex_eventhandler, names='value')\n",
    "dropdown_education.observe(\n",
    "dropdown_education_eventhandler, names='value')"
   ]
  },
  {
   "cell_type": "code",
   "execution_count": 42,
   "metadata": {},
   "outputs": [
    {
     "data": {
      "application/vnd.jupyter.widget-view+json": {
       "model_id": "acc521893258421e908bb7ae3303e380",
       "version_major": 2,
       "version_minor": 0
      },
      "text/plain": [
       "Dropdown(options=('ALL', '2005', '2006', '2007', '2008', '2009', '2010', '2011', '2012', '2013', '2014', '2015…"
      ]
     },
     "metadata": {},
     "output_type": "display_data"
    },
    {
     "data": {
      "application/vnd.jupyter.widget-view+json": {
       "model_id": "ea1cb5f422d84b8b9cfcd46beecdebdf",
       "version_major": 2,
       "version_minor": 0
      },
      "text/plain": [
       "Dropdown(options=('ALL', '-5 år', '10 år', '11 år', '12 år', '13 år', '14 år', '15 år', '16 år', '17 år', '18 …"
      ]
     },
     "metadata": {},
     "output_type": "display_data"
    },
    {
     "data": {
      "application/vnd.jupyter.widget-view+json": {
       "model_id": "4e80f67a587b4d84bfcac67dc9c09db9",
       "version_major": 2,
       "version_minor": 0
      },
      "text/plain": [
       "Dropdown(options=('ALL', 'female', 'male', 'total'), value='ALL')"
      ]
     },
     "metadata": {},
     "output_type": "display_data"
    },
    {
     "data": {
      "application/vnd.jupyter.widget-view+json": {
       "model_id": "0946a0fdf7b44c59bacfd722c957b6c7",
       "version_major": 2,
       "version_minor": 0
      },
      "text/plain": [
       "Dropdown(options=('ALL', 'H10 Grundskole', 'H15 Forberedende uddannelser', 'H20 Gymnasiale uddannelser', 'H29 …"
      ]
     },
     "metadata": {},
     "output_type": "display_data"
    }
   ],
   "source": [
    "display(dropdown_year)\n",
    "display(dropdown_age)\n",
    "display(dropdown_sex)\n",
    "display(dropdown_education)"
   ]
  },
  {
   "cell_type": "code",
   "execution_count": 43,
   "metadata": {},
   "outputs": [
    {
     "data": {
      "application/vnd.jupyter.widget-view+json": {
       "model_id": "24eba3ba9b5945669b76a45959ca745d",
       "version_major": 2,
       "version_minor": 0
      },
      "text/plain": [
       "Output()"
      ]
     },
     "metadata": {},
     "output_type": "display_data"
    },
    {
     "data": {
      "application/vnd.jupyter.widget-view+json": {
       "model_id": "a5be9eea86174da49291c2458a2a8755",
       "version_major": 2,
       "version_minor": 0
      },
      "text/plain": [
       "Output()"
      ]
     },
     "metadata": {},
     "output_type": "display_data"
    }
   ],
   "source": [
    "display(output)\n",
    "display(plot_output)"
   ]
  },
  {
   "cell_type": "code",
   "execution_count": 23,
   "metadata": {},
   "outputs": [],
   "source": [
    "#adding a graph\n",
    "plot_output = widgets.Output()\n",
    "\n",
    "\n",
    "def filters(year, age, sex, education):\n",
    "    output.clear_output()\n",
    "    plot_output.clear_output()\n",
    "    \n",
    "    if (year == ALL) & (age == ALL) & (sex == ALL) & (education == ALL): # everything\n",
    "        filters = df_long\n",
    "    elif (age == ALL) & (sex == ALL) & (education == ALL) : # everything but year\n",
    "        filters = df_long[df_long.year == year]\n",
    "    elif (year == ALL) & (sex == ALL) & (education == ALL): # everything but age\n",
    "        filters = df_long[df_long.age == age]\n",
    "    elif (age == ALL) & (year == ALL) & (education == ALL): # everything but sex\n",
    "        filters = df_long[df_long.sex == sex]\n",
    "    elif (age == ALL) & (year == ALL) & (sex == ALL): # everything but education\n",
    "        filters = df_long[df_long.education == education]\n",
    "    elif (sex == ALL) & (education == ALL): # everything but year, age\n",
    "        filters = df_long[(df_long.year == year) & (df_long.age == age)]\n",
    "    elif (age == ALL) & (education == ALL): # everything but year, sex\n",
    "        filters = df_long[(df_long.year == year) & (df_long.sex == sex)]\n",
    "    elif (age == ALL) & (sex == ALL): # everything but year, education\n",
    "        filters = df_long[(df_long.year == year) & (df_long.education == education)]\n",
    "    elif (year == ALL) & (sex == education): # everything but age sex\n",
    "        filters = df_long[(df_long.age == age) & (df_long.sex == sex)]\n",
    "    elif (year == ALL) & (sex == ALL): # everything but age education\n",
    "        filters = df_long[(df_long.age == year) & (df_long.education == education)]\n",
    "    elif (year == ALL) & (age == ALL): # everything but sex education\n",
    "        filters = df_long[(df_long.sex == sex) & (df_long.education == education)]\n",
    "    elif (year == ALL): # everything but age sex education\n",
    "        filters = df_long[(df_long.age == age) & (df_long.sex == sex) & (df_long.education == education)]\n",
    "    elif (age == ALL): # everything but year sex education\n",
    "        filters = df_long[(df_long.year == year) & (df_long.sex == sex) & (df_long.education == education)]\n",
    "    elif (sex == ALL): # everything but year age education\n",
    "        filters = df_long[(df_long.year == year) & (df_long.age == age) & (df_long.education == education)]\n",
    "    elif (education == ALL): # everything but year age sex\n",
    "        filters = df_long[(df_long.year == year) & (df_long.age == age) & (df_long.sex == sex)]\n",
    "    else:\n",
    "        filters = df_long[(df_long.year == year) & (df_long.age == age) & (df_long.sex == sex) & (df_long.education == education)]\n",
    "    \n",
    "    with plot_output:\n",
    "        sns.kdeplot(filters['uddannelsesaktivitet'], shade=True)\n",
    "        plt.show()"
   ]
  },
  {
   "cell_type": "code",
   "execution_count": null,
   "metadata": {},
   "outputs": [],
   "source": []
  },
  {
   "cell_type": "code",
   "execution_count": 17,
   "metadata": {},
   "outputs": [
    {
     "data": {
      "image/png": "[encoded data removed]",
      "text/plain": [
       "<Figure size 432x288 with 1 Axes>"
      ]
     },
     "metadata": {},
     "output_type": "display_data"
    }
   ],
   "source": [
    "df_long.loc[df_long['year'] == '2005', :].plot(x='year',y='uddannelsesaktivitet',legend=False);"
   ]
  },
  {
   "cell_type": "code",
   "execution_count": 18,
   "metadata": {},
   "outputs": [],
   "source": [
    "def plot_e(df, sex, education, age): \n",
    "    I = df['sex'] == sex\n",
    "    ax=df.loc[I,:].plot(x='year', y='uddannelsesaktivitet', style='-o', legend=False)"
   ]
  },
  {
   "cell_type": "code",
   "execution_count": 19,
   "metadata": {},
   "outputs": [
    {
     "data": {
      "application/vnd.jupyter.widget-view+json": {
       "model_id": "25fe98017b6d4fa580af123f9cc3e7d2",
       "version_major": 2,
       "version_minor": 0
      },
      "text/plain": [
       "interactive(children=(Dropdown(description='sex', index=2, options=('total', 'male', 'female'), value='female'…"
      ]
     },
     "metadata": {},
     "output_type": "display_data"
    }
   ],
   "source": [
    "widgets.interact(plot_e, \n",
    "    df = widgets.fixed(df_long),\n",
    "    sex = widgets.Dropdown(description='sex', \n",
    "                                    options=df_long.sex.unique(), \n",
    "                                    value='female'),\n",
    "    education = widgets.Dropdown(description='education', options=df_long.education.unique(), value='H10 Grundskole'),\n",
    "    age = widgets.Dropdown(description='age', options=df_long.age.unique(), value='10 år')\n",
    "); "
   ]
  },
  {
   "cell_type": "code",
   "execution_count": 20,
   "metadata": {},
   "outputs": [],
   "source": [
    "Education = widgets.Dropdown(description='education', options=df_long.education.unique(), value='H10 Grundskole')"
   ]
  },
  {
   "cell_type": "code",
   "execution_count": null,
   "metadata": {},
   "outputs": [],
   "source": []
  }
 ],
 "metadata": {
  "kernelspec": {
   "display_name": "Python 3",
   "language": "python",
   "name": "python3"
  },
  "language_info": {
   "codemirror_mode": {
    "name": "ipython",
    "version": 3
   },
   "file_extension": ".py",
   "mimetype": "text/x-python",
   "name": "python",
   "nbconvert_exporter": "python",
   "pygments_lexer": "ipython3",
   "version": "3.7.6"
  }
 },
 "nbformat": 4,
 "nbformat_minor": 4
}