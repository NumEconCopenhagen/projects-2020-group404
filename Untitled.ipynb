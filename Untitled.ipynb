{
 "cells": [
  {
   "cell_type": "code",
   "execution_count": 1,
   "metadata": {},
   "outputs": [],
   "source": [
    "\n",
    "# importint packages\n",
    "import numpy as np\n",
    "import itertools as it\n",
    "from scipy import optimize\n",
    "\n",
    "import matplotlib.pyplot as plt # baseline modul\n",
    "from mpl_toolkits.mplot3d import Axes3D # for 3d figures\n",
    "plt.style.use('seaborn-whitegrid') # whitegrid nice with 3d\n"
   ]
  },
  {
   "cell_type": "code",
   "execution_count": 176,
   "metadata": {},
   "outputs": [],
   "source": [
    "m = 1\n",
    "v = 10\n",
    "epsilon = 0.3\n",
    "tao0 = 0.4\n",
    "tao1 = 0.1\n",
    "kappa = 0.4\n",
    "\n",
    "x = 1\n",
    "w = 1\n",
    "cl = (1,1)\n",
    "\n",
    "\n",
    "#Defining model\n",
    "def f(c = cl[0], l = cl[1], v = v, epsilon = epsilon):\n",
    "    return np.log(c) - v*(l**(1+1/epsilon))/(1+1/epsilon)\n",
    "\n",
    "# Defining a function that will solve the model.\n",
    "def solver(m,v,epsilon,tao0,tao1,kappa,w,cl,f):\n",
    "\n",
    "    # converting utility function to list\n",
    "    def obj(cl):\n",
    "        c = cl[0]\n",
    "        l = cl[1]\n",
    "        return -f(c,l)\n",
    "\n",
    "    # constraints and bounds\n",
    "    # eq constraint for x\n",
    "    con = lambda cl: np.array([m + w*cl[1] - \\\n",
    "        (tao0*w*cl[1] + tao1*max(w*cl[1]-kappa,0)) - cl[0]])\n",
    "    # bounds for c and l\n",
    "    boundc = (0.0, m + w*cl[1] - (tao0*w*cl[1] + tao1*max(w*cl[1]-kappa,0)))\n",
    "    boundl = (0.0,1.0)\n",
    "    # combining constraints and bounds for the optimizer\n",
    "    bounds = (boundc,boundl)\n",
    "    cons = ({'type': 'eq', 'fun': con})\n",
    "\n",
    "    #initial guess\n",
    "    initial_guess = np.array([1,1])\n",
    "\n",
    "    # c. call solver\n",
    "    sol = optimize.minimize(obj,initial_guess,\n",
    "    method='SLSQP', bounds=bounds, constraints = cons)\n",
    "\n",
    "    return sol\n",
    "\n",
    "# defining print solution, for values find by the solver\n",
    "def print_solution(c,l,u):\n",
    "    print(f'c = {c:.8f}')\n",
    "    print(f'l = {l:.8f}')\n",
    "    print(f'u = {u:.8f}')\n"
   ]
  },
  {
   "cell_type": "code",
   "execution_count": 5,
   "metadata": {},
   "outputs": [
    {
     "data": {
      "text/plain": [
       "[<matplotlib.lines.Line2D at 0x1a03c44df88>]"
      ]
     },
     "execution_count": 5,
     "metadata": {},
     "output_type": "execute_result"
    },
    {
     "data": {
      "image/png": "[encoded data removed]",
      "text/plain": [
       "<Figure size 720x288 with 1 Axes>"
      ]
     },
     "metadata": {
      "needs_background": "light"
     },
     "output_type": "display_data"
    }
   ],
   "source": [
    "\n",
    "#Defining model\n",
    "def f(c = cl[0], l = cl[1], v = v, epsilon = epsilon):\n",
    "    return np.log(c) - v*(l**(1+1/epsilon))/(1+1/epsilon)\n",
    "\n",
    "\n",
    "\n",
    "\n",
    "\n",
    "\n",
    "wliste = np.arange(0.5, 1.5, 0.01).tolist()\n",
    "cliste = []\n",
    "lliste = []\n",
    "for w in wliste:\n",
    "    sol = solver(m,v,epsilon,tao0,tao1,kappa,w,cl,f)\n",
    "    c = sol.x[0]\n",
    "    l = sol.x[1]\n",
    "    cliste.append(c)\n",
    "    lliste.append(l)\n",
    "fig = plt.figure(figsize=(10,4))# figsize is in inches...\n",
    "ax = fig.add_subplot(1,2,1)\n",
    "ax.plot(cliste,lliste) # create surface plot in the axis\n"
   ]
  },
  {
   "cell_type": "code",
   "execution_count": 209,
   "metadata": {},
   "outputs": [
    {
     "name": "stdout",
     "output_type": "stream",
     "text": [
      "Total tax revenue = 1.62163271\n",
      "0.40084826911715543\n"
     ]
    }
   ],
   "source": [
    "\n",
    "# Question 3\n",
    "#clearing total tax\n",
    "Tax = 0\n",
    "\n",
    "#Defining a function for Tax revenue\n",
    "def T(w, l, tao0 = tao0, tao1 = tao1, kappa = kappa):\n",
    "    return tao0*w*l+tao1*max(w*l-kappa,0)\n",
    "\n",
    "# defining uniform distribution of wages\n",
    "w_rand = np.random.uniform(0.5,1.5,size = 10)\n",
    "\n",
    "# calculation total tax revenue\n",
    "for wrand in w_rand:\n",
    "    sol = solver(m,v,epsilon,tao0,tao1,kappa,wrand,cl,f)\n",
    "    ltax = sol.x[1]\n",
    "    Tax = Tax + T(wrand,ltax)\n",
    "print(f'Total tax revenue = {Tax:.8f}')\n",
    "\n",
    "\n",
    "\n"
   ]
  },
  {
   "cell_type": "code",
   "execution_count": 247,
   "metadata": {},
   "outputs": [
    {
     "ename": "IndentationError",
     "evalue": "unexpected indent (<ipython-input-247-ad0f24f159fe>, line 47)",
     "output_type": "error",
     "traceback": [
      "\u001b[1;36m  File \u001b[1;32m\"<ipython-input-247-ad0f24f159fe>\"\u001b[1;36m, line \u001b[1;32m47\u001b[0m\n\u001b[1;33m    sol2 = optimize.minimize(Tsolver, Guess_t0_t1_ka, method='SLSQP', args=(w=w_rand, l=lt, tao0, tao1, kappa) , bounds = bounds)\u001b[0m\n\u001b[1;37m    ^\u001b[0m\n\u001b[1;31mIndentationError\u001b[0m\u001b[1;31m:\u001b[0m unexpected indent\n"
     ]
    }
   ],
   "source": [
    "# Opgave 5!\n",
    "# Defining a function l(w) and total revenue\n",
    "def ltst(w_rand = w_rand, epsilon = epsilon, tao0 = tao0, tao1 = tao1, kappa = kappa):\n",
    "    lt = np.empty(np.size(w_rand))\n",
    "    \n",
    "    for i,w in enumerate(w_rand):\n",
    "        lt[i] = solver(m, v, epsilon, tao0, tao1, kappa, w, cl, f).x[0]\n",
    "    return lt\n",
    "print(ltst())\n",
    "\n",
    "# Defining Total revenue\n",
    "def sumT(w = w_rand, epsilon = epsilon, tao0 = tao0, tao1 = tao1, kappa = kappa):\n",
    "    \n",
    "    sum = 0\n",
    "    for i in range(np.size(w_rand)):\n",
    "        w = w_rand[i]\n",
    "        l = lt[i]\n",
    "        sum += tao0*w*l+tao1*max(w*l-kappa,0)\n",
    "    return sum\n",
    "\n",
    "\n",
    "# Total revenue\n",
    "print(sumT())\n",
    "\n",
    "\n",
    "\n",
    "\n",
    "\n",
    "# Optimizing\n",
    "def Tsolver(tao0 = tao0, tao1 = tao1, kappa = kappa, w = w_rand, epsilon = epsilon):\n",
    "    tao0 = t0_t1_ka[0]\n",
    "    tao1 = t0_t1_ka[1]\n",
    "    kappa = t0_t1_ka[2]\n",
    "    return -sumT(tao0, tao1, kappa, w = w_rand, epsilon = epsilon)    \n",
    "\n",
    "\n",
    "    # Bounds\n",
    "#Bound_t0 = (0,1)\n",
    "#Bound_t1 = (0,1)\n",
    "#Bound_ka = (0,10)\n",
    "    \n",
    "#bounds = (Bound_t0, Bound_t1, Bound_ka)\n",
    "bounds = ((0,1),(0,1),(0,1.5))\n",
    "\n",
    "Guess_t0_t1_ka = [0.4,0.1,0.4]\n",
    "\n",
    "    sol2 = optimize.minimize(Tsolver, Guess_t0_t1_ka, method='SLSQP', args=(w=w_rand, l=lt, tao0, tao1, kappa) , bounds = bounds)\n",
    "    \n",
    "    \n",
    "\n",
    "# Printing optimal values\n",
    "\n",
    "\n"
   ]
  },
  {
   "cell_type": "code",
   "execution_count": null,
   "metadata": {},
   "outputs": [],
   "source": []
  },
  {
   "cell_type": "code",
   "execution_count": null,
   "metadata": {},
   "outputs": [],
   "source": []
  }
 ],
 "metadata": {
  "kernelspec": {
   "display_name": "Python 3",
   "language": "python",
   "name": "python3"
  },
  "language_info": {
   "codemirror_mode": {
    "name": "ipython",
    "version": 3
   },
   "file_extension": ".py",
   "mimetype": "text/x-python",
   "name": "python",
   "nbconvert_exporter": "python",
   "pygments_lexer": "ipython3",
   "version": "3.7.4"
  }
 },
 "nbformat": 4,
 "nbformat_minor": 4
}
