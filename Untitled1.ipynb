{
 "cells": [
  {
   "cell_type": "code",
   "execution_count": 68,
   "metadata": {},
   "outputs": [],
   "source": [
    "# Til Hjemmeopgave 6\n",
    "import numpy as np"
   ]
  },
  {
   "cell_type": "code",
   "execution_count": 63,
   "metadata": {},
   "outputs": [],
   "source": [
    "# Defining a and b\n",
    "a = np.array([10,20,30,40,50,60,70,80,90,100])\n",
    "def b(a):\n",
    "    return -a-40*(100-a)**(1/2)+400"
   ]
  },
  {
   "cell_type": "code",
   "execution_count": 66,
   "metadata": {},
   "outputs": [
    {
     "name": "stdout",
     "output_type": "stream",
     "text": [
      "for a = 10 , b = 10.526680779794447\n",
      "for a = 20 , b = 22.22912360003363\n",
      "for a = 30 , b = 35.33598938636976\n",
      "for a = 40 , b = 50.16133230340665\n",
      "for a = 50 , b = 67.15728752538098\n",
      "for a = 60 , b = 87.01778718652963\n",
      "for a = 70 , b = 110.91097699793352\n",
      "for a = 80 , b = 141.11456180001682\n",
      "for a = 90 , b = 183.50889359326482\n",
      "for a = 100 , b = 300.0\n"
     ]
    }
   ],
   "source": [
    "# Printing element in enumerate\n",
    "for i, element in enumerate(a):\n",
    "    print(\"for a =\", element, \", b =\", b(a[i]))"
   ]
  },
  {
   "cell_type": "code",
   "execution_count": null,
   "metadata": {},
   "outputs": [],
   "source": []
  }
 ],
 "metadata": {
  "kernelspec": {
   "display_name": "Python 3",
   "language": "python",
   "name": "python3"
  },
  "language_info": {
   "codemirror_mode": {
    "name": "ipython",
    "version": 3
   },
   "file_extension": ".py",
   "mimetype": "text/x-python",
   "name": "python",
   "nbconvert_exporter": "python",
   "pygments_lexer": "ipython3",
   "version": "3.7.4"
  }
 },
 "nbformat": 4,
 "nbformat_minor": 4
}
