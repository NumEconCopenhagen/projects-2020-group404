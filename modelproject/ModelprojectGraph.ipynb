{
 "cells": [
  {
   "cell_type": "code",
   "execution_count": 101,
   "metadata": {},
   "outputs": [
    {
     "output_type": "stream",
     "name": "stdout",
     "text": "The autoreload extension is already loaded. To reload it, use:\n  %reload_ext autoreload\n"
    }
   ],
   "source": [
    "import numpy as np\n",
    "from scipy import optimize\n",
    "import sympy as sm\n",
    "import ipywidgets as wg\n",
    "import matplotlib.pyplot as plt\n",
    "\n",
    "# autoreload modules when code is run\n",
    "%load_ext autoreload\n",
    "%autoreload 2\n",
    "\n",
    "\n",
    "\n",
    "# local modules\n",
    "import modelproject"
   ]
  },
  {
   "cell_type": "markdown",
   "metadata": {},
   "source": [
    "# Solver"
   ]
  },
  {
   "cell_type": "code",
   "execution_count": 58,
   "metadata": {},
   "outputs": [],
   "source": [
    "# Defining variabels\n",
    "yt, ybar, alpha, pit, pistar, pitm1, gamma = sm.symbols(\"y_t ybar alpha pi_t pi^* pi_t-1 gamma\")"
   ]
  },
  {
   "cell_type": "code",
   "execution_count": 98,
   "metadata": {},
   "outputs": [
    {
     "output_type": "display_data",
     "data": {
      "text/plain": "'AD_yt = '"
     },
     "metadata": {}
    },
    {
     "output_type": "display_data",
     "data": {
      "text/plain": "Eq(y_t, -alpha*(-pi^* + pi_t) + ybar)",
      "text/latex": "$\\displaystyle y_{t} = - \\alpha \\left(- \\pi^{*} + \\pi_{t}\\right) + \\bar{y}$"
     },
     "metadata": {}
    },
    {
     "output_type": "display_data",
     "data": {
      "text/plain": "'AS_pit = '"
     },
     "metadata": {}
    },
    {
     "output_type": "display_data",
     "data": {
      "text/plain": "Eq(pi_t, gamma*(y_t - ybar) + pi_t-1)",
      "text/latex": "$\\displaystyle \\pi_{t} = \\gamma \\left(y_{t} - \\bar{y}\\right) + \\pi_{t-1}$"
     },
     "metadata": {}
    },
    {
     "output_type": "display_data",
     "data": {
      "text/plain": "[(alpha*pi^* - y_t + ybar)/alpha]"
     },
     "metadata": {}
    },
    {
     "output_type": "display_data",
     "data": {
      "text/plain": "'AD_pit = '"
     },
     "metadata": {}
    },
    {
     "output_type": "display_data",
     "data": {
      "text/plain": "(alpha*pi^* - y_t + ybar)/alpha",
      "text/latex": "$\\displaystyle \\frac{\\alpha \\pi^{*} - y_{t} + \\bar{y}}{\\alpha}$"
     },
     "metadata": {}
    },
    {
     "output_type": "display_data",
     "data": {
      "text/plain": "'AD_pit = '"
     },
     "metadata": {}
    },
    {
     "output_type": "display_data",
     "data": {
      "text/plain": "Eq(pi_t, (alpha*pi^* - y_t + ybar)/(alpha - 1))",
      "text/latex": "$\\displaystyle \\pi_{t} = \\frac{\\alpha \\pi^{*} - y_{t} + \\bar{y}}{\\alpha - 1}$"
     },
     "metadata": {}
    },
    {
     "output_type": "stream",
     "name": "stdout",
     "text": "y_t =  [(gamma*ybar + pi_t - pi_t-1)/gamma]\n"
    },
    {
     "output_type": "display_data",
     "data": {
      "text/plain": "'AS_yt = '"
     },
     "metadata": {}
    },
    {
     "output_type": "display_data",
     "data": {
      "text/plain": "Eq(y_t, (gamma*ybar + pi_t - pi_t-1)/gamma)",
      "text/latex": "$\\displaystyle y_{t} = \\frac{\\gamma \\bar{y} + \\pi_{t} - \\pi_{t-1}}{\\gamma}$"
     },
     "metadata": {}
    }
   ],
   "source": [
    "# Defining our equations\n",
    "AD_yt = sm.Eq(yt, ybar - alpha*(pit-pistar))\n",
    "AS_pit = sm.Eq(pit, pitm1+gamma*(yt-ybar))\n",
    "display(\"AD_yt = \", AD_yt, \"AS_pit = \", AS_pit)\n",
    "\n",
    "# isolating pi_t in AD\n",
    "display(sm.solve(AD_yt, pit))\n",
    "\n",
    "AD_pit = (alpha*pistar - yt + ybar)/alpha\n",
    "display(\"AD_pit = \", AD_pit)\n",
    "\n",
    "AD_pit = sm.Eq(pit, (alpha*pistar - yt + ybar)/(alpha - 1))\n",
    "display(\"AD_pit = \",AD_pit)\n",
    "\n",
    "# We solve for yt\n",
    "print(\"y_t = \", sm.solve(AS_pit, yt))\n",
    "\n",
    "# We now have our AS \"expressed by\" yt\n",
    "AS_yt = sm.Eq(yt, (gamma*ybar + pit - pitm1)/gamma)\n",
    "display(\"AS_yt = \", AS_yt)"
   ]
  },
  {
   "cell_type": "markdown",
   "metadata": {},
   "source": [
    "# Graph"
   ]
  },
  {
   "cell_type": "code",
   "execution_count": 102,
   "metadata": {},
   "outputs": [],
   "source": [
    "def AD_graph(a):\n",
    "    yt = np.linspace(0,100)\n",
    "    ybar = 50\n",
    "    pistar = 2\n",
    "    pit = (a*pistar - yt + ybar)/a\n",
    "    \n",
    "    # Making the graph\n",
    "    plt.plot(yt, pit ,'r-')\n",
    "    plt.ylabel('pi') \n",
    "    plt.xlabel('yt')\n",
    "    plt.ylim([0,100])\n",
    "    plt.xlim([0,100])\n",
    "    \n",
    "def AS_graph(g):\n",
    "    yt = np.linspace(0,100)\n",
    "    ybar = 50\n",
    "    pitm1 = 1\n",
    "    pit = g*(yt-ybar)+pitm1\n",
    "    # Making the graph\n",
    "\n",
    "    plt.plot(yt, pit, 'b-')\n",
    "    plt.ylabel('pi') \n",
    "    plt.xlabel('yt')\n",
    "    plt.ylim([0,100])\n",
    "    plt.xlim([0,100])\n"
   ]
  },
  {
   "cell_type": "code",
   "execution_count": 103,
   "metadata": {},
   "outputs": [
    {
     "output_type": "display_data",
     "data": {
      "text/plain": "interactive(children=(FloatSlider(value=0.5, description='a', max=1.0, step=0.01), Output()), _dom_classes=('w…",
      "application/vnd.jupyter.widget-view+json": {
       "version_major": 2,
       "version_minor": 0,
       "model_id": "70e2706e318e4041b26c898c782317b0"
      }
     },
     "metadata": {}
    },
    {
     "output_type": "display_data",
     "data": {
      "text/plain": "interactive(children=(FloatSlider(value=0.5, description='g', max=1.0, step=0.01), Output()), _dom_classes=('w…",
      "application/vnd.jupyter.widget-view+json": {
       "version_major": 2,
       "version_minor": 0,
       "model_id": "e37d9d34e69e4875924263b205034425"
      }
     },
     "metadata": {}
    }
   ],
   "source": [
    "# Slider\n",
    "a_slider = wg.FloatSlider(value=0.5, min=0, max=1, step = 0.01)\n",
    "g_slider = wg.FloatSlider(value=0.5, min=0, max=1, step = 0.01)\n",
    "\n",
    "AD = wg.interact(AD_graph, a = a_slider)\n",
    "AS = wg.interact(AS_graph, g = g_slider)"
   ]
  },
  {
   "cell_type": "code",
   "execution_count": null,
   "metadata": {},
   "outputs": [],
   "source": []
  }
 ],
 "metadata": {
  "language_info": {
   "codemirror_mode": {
    "name": "ipython",
    "version": 3
   },
   "file_extension": ".py",
   "mimetype": "text/x-python",
   "name": "python",
   "nbconvert_exporter": "python",
   "pygments_lexer": "ipython3",
   "version": "3.7.4-final"
  },
  "orig_nbformat": 2,
  "kernelspec": {
   "name": "python3",
   "display_name": "Python 3"
  }
 },
 "nbformat": 4,
 "nbformat_minor": 2
}