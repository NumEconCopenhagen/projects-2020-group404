{
 "cells": [
  {
   "cell_type": "code",
   "execution_count": 3,
   "metadata": {},
   "outputs": [
    {
     "output_type": "stream",
     "name": "stdout",
     "text": "The autoreload extension is already loaded. To reload it, use:\n  %reload_ext autoreload\n"
    }
   ],
   "source": [
    "import numpy as np\n",
    "from scipy import optimize\n",
    "import sympy as sm\n",
    "\n",
    "# autoreload modules when code is run\n",
    "%load_ext autoreload\n",
    "%autoreload 2\n",
    "\n",
    "# local modules\n",
    "import modelproject"
   ]
  },
  {
   "cell_type": "markdown",
   "metadata": {},
   "source": [
    "# Solver"
   ]
  },
  {
   "cell_type": "code",
   "execution_count": 8,
   "metadata": {},
   "outputs": [],
   "source": [
    "# Defining variabels\n",
    "yt, ybar, alpha, pit, pistar, pitm1, gamma = sm.symbols(\"y_t ybar alpha pi_t pi^* pi_t-1 gamma\")"
   ]
  },
  {
   "cell_type": "code",
   "execution_count": 7,
   "metadata": {},
   "outputs": [
    {
     "output_type": "display_data",
     "data": {
      "text/plain": "'AD = '"
     },
     "metadata": {}
    },
    {
     "output_type": "display_data",
     "data": {
      "text/plain": "Eq(y_t, -alpha*(-pi^* + pi_t) + ybar)",
      "text/latex": "$\\displaystyle y_{t} = - \\alpha \\left(- \\pi^{*} + \\pi_{t}\\right) + \\bar{y}$"
     },
     "metadata": {}
    },
    {
     "output_type": "display_data",
     "data": {
      "text/plain": "'AS = '"
     },
     "metadata": {}
    },
    {
     "output_type": "display_data",
     "data": {
      "text/plain": "Eq(pi_t, gamma*(y_t - ybar) + pi_t-1)",
      "text/latex": "$\\displaystyle \\pi_{t} = \\gamma \\left(y_{t} - \\bar{y}\\right) + \\pi_{t-1}$"
     },
     "metadata": {}
    }
   ],
   "source": [
    "AD = sm.Eq(yt, ybar - alpha*(pit-pistar))\n",
    "AS = sm.Eq(pit, pitm1+gamma*(yt-ybar))\n",
    "\n",
    "display(\"AD = \", AD, \"AS = \", AS)\n"
   ]
  },
  {
   "cell_type": "markdown",
   "metadata": {},
   "source": [
    "# Graph"
   ]
  },
  {
   "cell_type": "code",
   "execution_count": null,
   "metadata": {},
   "outputs": [],
   "source": []
  }
 ],
 "metadata": {
  "language_info": {
   "codemirror_mode": {
    "name": "ipython",
    "version": 3
   },
   "file_extension": ".py",
   "mimetype": "text/x-python",
   "name": "python",
   "nbconvert_exporter": "python",
   "pygments_lexer": "ipython3",
   "version": "3.7.4-final"
  },
  "orig_nbformat": 2,
  "kernelspec": {
   "name": "python3",
   "display_name": "Python 3"
  }
 },
 "nbformat": 4,
 "nbformat_minor": 2
}