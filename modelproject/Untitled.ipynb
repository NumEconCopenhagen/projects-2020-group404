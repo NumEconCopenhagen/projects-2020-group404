{
 "cells": [
  {
   "cell_type": "code",
   "execution_count": 1,
   "metadata": {},
   "outputs": [],
   "source": [
    "import numpy as np\n",
    "from scipy import optimize\n",
    "import sympy as sm\n",
    "\n",
    "# autoreload modules when code is run\n",
    "%load_ext autoreload\n",
    "%autoreload 2\n",
    "\n",
    "# local modules\n",
    "import modelproject"
   ]
  },
  {
   "cell_type": "markdown",
   "metadata": {},
   "source": [
    "We consider  the following model of inflation and bnp.\n",
    "\n",
    "<!---\n",
    "it looks like a mess because I don't know how to indent, \"&nbsp;\" is equal to one space.\n",
    "-->\n",
    "\n",
    "|   |   |   |\n",
    "|:---|---|:---|\n",
    "|&nbsp;&nbsp;&nbsp;&nbsp;&nbsp;&nbsp;AD.   |&nbsp;&nbsp;&nbsp;&nbsp;&nbsp;&nbsp;$\\hat{y}_t = - \\alpha \\hat{\\pi}_t$   |   |\n",
    "|&nbsp;&nbsp;&nbsp;&nbsp;&nbsp;&nbsp;AS.   |&nbsp;&nbsp;&nbsp;&nbsp;&nbsp;&nbsp;$\\hat{\\pi}_t = \\hat{\\pi}_{t-1} + \\gamma \\hat{y_t}$   |   |\n"
   ]
  },
  {
   "cell_type": "code",
   "execution_count": 16,
   "metadata": {},
   "outputs": [],
   "source": [
    "yt, ybar, alpha, pit, pistar, pitm1, gamma = sm.symbols(\"y_t ybar alpha pi_t pi^* pi_t-1 gamma\")"
   ]
  },
  {
   "cell_type": "code",
   "execution_count": 17,
   "metadata": {},
   "outputs": [
    {
     "data": {
      "text/plain": [
       "'AD = '"
      ]
     },
     "metadata": {},
     "output_type": "display_data"
    },
    {
     "data": {
      "text/latex": [
       "$\\displaystyle y_{t} = - \\alpha \\left(- \\pi^{*} + \\pi_{t}\\right) + \\bar{y}$"
      ],
      "text/plain": [
       "Eq(y_t, -alpha*(-pi^* + pi_t) + ybar)"
      ]
     },
     "metadata": {},
     "output_type": "display_data"
    },
    {
     "data": {
      "text/plain": [
       "'AS = '"
      ]
     },
     "metadata": {},
     "output_type": "display_data"
    },
    {
     "data": {
      "text/latex": [
       "$\\displaystyle \\pi_{t} = \\gamma \\left(y_{t} - \\bar{y}\\right) + \\pi_{t-1}$"
      ],
      "text/plain": [
       "Eq(pi_t, gamma*(y_t - ybar) + pi_t-1)"
      ]
     },
     "metadata": {},
     "output_type": "display_data"
    }
   ],
   "source": [
    "AD = sm.Eq(yt, ybar - alpha*(pit-pistar))\n",
    "AS = sm.Eq(pit, pitm1+gamma*(yt-ybar))\n",
    "\n",
    "display(\"AD = \", AD, \"AS = \", AS)\n"
   ]
  },
  {
   "cell_type": "code",
   "execution_count": 9,
   "metadata": {},
   "outputs": [],
   "source": [
    "\n",
    "\n",
    "\n"
   ]
  },
  {
   "cell_type": "code",
   "execution_count": 7,
   "metadata": {},
   "outputs": [],
   "source": [
    "# Defining the symbols\n",
    "yhat_t, yhat_t1, alpha, pihat_t, pihat_t1, gamma = sm.symbols('yhat_t yhat_t1 alpha pihat_t pihat_t1 gamma')"
   ]
  },
  {
   "cell_type": "code",
   "execution_count": 3,
   "metadata": {},
   "outputs": [],
   "source": [
    "# Defining the equilibrium\n",
    "# the EQ for pi is found by inserting AD into AS\n",
    "ss1 = sm.Eq(pihat_t,(pihat_t1-gamma*alpha*pihat_t))\n",
    "# the EQ for y is found by inserting AS into AD\n",
    "ss2 = sm.Eq(yhat_t,(-alpha*(pihat_t+gamma*yhat_t)))"
   ]
  },
  {
   "cell_type": "code",
   "execution_count": 4,
   "metadata": {},
   "outputs": [
    {
     "name": "stdout",
     "output_type": "stream",
     "text": [
      "[pihat_t1/(alpha*gamma + 1)]\n",
      "[-gamma*yhat_t - yhat_t/alpha]\n"
     ]
    }
   ],
   "source": [
    "#solving the model\n",
    "sspi = sm.solve(ss1,pihat_t)\n",
    "ssy = sm.solve(ss2,pihat_t)\n",
    "print(sspi)\n",
    "print(ssy)"
   ]
  },
  {
   "cell_type": "code",
   "execution_count": null,
   "metadata": {},
   "outputs": [],
   "source": []
  }
 ],
 "metadata": {
  "kernelspec": {
   "display_name": "Python 3",
   "language": "python",
   "name": "python3"
  },
  "language_info": {
   "codemirror_mode": {
    "name": "ipython",
    "version": 3
   },
   "file_extension": ".py",
   "mimetype": "text/x-python",
   "name": "python",
   "nbconvert_exporter": "python",
   "pygments_lexer": "ipython3",
   "version": "3.7.4"
  }
 },
 "nbformat": 4,
 "nbformat_minor": 4
}
