{
 "cells": [
  {
   "cell_type": "markdown",
   "metadata": {},
   "source": [
    "# YOUR PROJECT TITLE"
   ]
  },
  {
   "cell_type": "markdown",
   "metadata": {},
   "source": [
    "> **Note the following:** \n",
    "> 1. This is *not* meant to be an example of an actual **model analysis project**, just an example of how to structure such a project.\n",
    "> 1. Remember the general advice on structuring and commenting your code from [lecture 5](https://numeconcopenhagen.netlify.com/lectures/Workflow_and_debugging).\n",
    "> 1. Remember this [guide](https://www.markdownguide.org/basic-syntax/) on markdown and (a bit of) latex.\n",
    "> 1. Turn on automatic numbering by clicking on the small icon on top of the table of contents in the left sidebar.\n",
    "> 1. The `modelproject.py` file includes a function which could be used multiple times in this notebook."
   ]
  },
  {
   "cell_type": "markdown",
   "metadata": {},
   "source": [
    "Imports and set magics:"
   ]
  },
  {
   "cell_type": "code",
   "execution_count": 18,
   "metadata": {},
   "outputs": [
    {
     "output_type": "stream",
     "name": "stdout",
     "text": "The autoreload extension is already loaded. To reload it, use:\n  %reload_ext autoreload\n"
    }
   ],
   "source": [
    "import numpy as np\n",
    "from scipy import optimize\n",
    "import sympy as sm\n",
    "\n",
    "# autoreload modules when code is run\n",
    "%load_ext autoreload\n",
    "%autoreload 2\n",
    "\n",
    "# local modules\n",
    "import modelproject as mp\n",
    "\n",
    "#matplotlib\n",
    "%matplotlib inline\n",
    "import matplotlib.pyplot as plt\n",
    "plt.style.use('seaborn-whitegrid')\n",
    "from matplotlib import cm\n",
    "from mpl_toolkits.mplot3d import Axes3D"
   ]
  },
  {
   "cell_type": "markdown",
   "metadata": {
    "toc-hr-collapsed": true,
    "toc-nb-collapsed": true
   },
   "source": [
    "# Model description"
   ]
  },
  {
   "cell_type": "markdown",
   "metadata": {},
   "source": [
    "We consider  the following model of inflation and bnp.\n",
    "\n",
    "<!---\n",
    "it looks like a mess because I don't know how to indent, \"&nbsp;\" is equal to one space.\n",
    "-->\n",
    "\n",
    "|||\n",
    "|:---|---|\n",
    "|&nbsp;&nbsp;&nbsp;&nbsp;&nbsp;&nbsp;AD.   |&nbsp;&nbsp;&nbsp;&nbsp;&nbsp;&nbsp;$\\hat{y}_t = - \\alpha \\hat{\\pi}_t$   |\n",
    "|&nbsp;&nbsp;&nbsp;&nbsp;&nbsp;&nbsp;AS.   |&nbsp;&nbsp;&nbsp;&nbsp;&nbsp;&nbsp;$\\hat{\\pi}_t = \\hat{\\pi}_{t-1} + \\gamma \\hat{y_t}$   |\n"
   ]
  },
  {
   "cell_type": "markdown",
   "metadata": {},
   "source": [
    "# Steady state"
   ]
  },
  {
   "cell_type": "code",
   "execution_count": 19,
   "metadata": {},
   "outputs": [],
   "source": [
    "#using sympy to find steady state\n",
    "\n",
    "# Defining the symbols\n",
    "yhat_t, yhat_t1, alpha, pihat_t, pihat_t1, gamma = sm.symbols('yhat_t yhat_t1 alpha pihat_t pihat_t1 gamma')"
   ]
  },
  {
   "cell_type": "code",
   "execution_count": 20,
   "metadata": {},
   "outputs": [],
   "source": [
    "# Defining the equilibrium\n",
    "# the EQ for pi is found by inserting AD into AS\n",
    "ss1 = sm.Eq(pihat_t,(pihat_t1-gamma*alpha*pihat_t))\n",
    "# the EQ for y is found by inserting AS into AD\n",
    "ss2 = sm.Eq(yhat_t,(-alpha*(pihat_t+gamma*yhat_t)))"
   ]
  },
  {
   "cell_type": "code",
   "execution_count": 21,
   "metadata": {},
   "outputs": [
    {
     "output_type": "stream",
     "name": "stdout",
     "text": "[pihat_t1/(alpha*gamma + 1)]\n[-gamma*yhat_t - yhat_t/alpha]\n"
    }
   ],
   "source": [
    "#solving the model\n",
    "sspi = sm.solve(ss1,pihat_t)\n",
    "ssy = sm.solve(ss2,pihat_t)\n",
    "print(sspi)\n",
    "print(ssy)"
   ]
  },
  {
   "cell_type": "code",
   "execution_count": 22,
   "metadata": {},
   "outputs": [],
   "source": [
    "#turning the steady states into a Python function\n",
    "ss1_func = sm.lambdify((pihat_t, gamma, alpha),sspi)\n",
    "ss2_func = sm.lambdify((pihat_t, gamma, yhat_t),ssy)"
   ]
  },
  {
   "cell_type": "markdown",
   "metadata": {},
   "source": [
    "## Analytical solution"
   ]
  },
  {
   "cell_type": "code",
   "execution_count": 25,
   "metadata": {},
   "outputs": [],
   "source": [
    "#turning the steady states into a Python function\n",
    "ss1_func = sm.lambdify((pihat_t, gamma, alpha),sspi)\n",
    "ss2_func = sm.lambdify((pihat_t, gamma, yhat_t),ssy)\n",
    "\n"
   ]
  },
  {
   "cell_type": "code",
   "execution_count": 26,
   "metadata": {},
   "outputs": [],
   "source": [
    "#Defining values\n",
    "pi_t1 = 10\n",
    "gamma = 0.1\n",
    "ybar = 10\n",
    "pistar = 20\n",
    "alpha = 0.33\n",
    "\n",
    "def AS(y_t):\n",
    "    return pi_t1 + gamma*(y_t - ybar)\n",
    "def obj(y_t):\n",
    "    return alpha * (AS(y_t) - pistar)"
   ]
  },
  {
   "cell_type": "code",
   "execution_count": 27,
   "metadata": {},
   "outputs": [],
   "source": [
    "#Becuase of unforseen consequenses the inflation higher than the equilibrium.\n",
    "\n",
    "optimum = mp.solve_for_ss(pi_t1, gamma, ybar, pistar, alpha)"
   ]
  },
  {
   "cell_type": "code",
   "execution_count": 28,
   "metadata": {},
   "outputs": [
    {
     "output_type": "stream",
     "name": "stdout",
     "text": "110.00000000006985\n20.000000000006985\n"
    }
   ],
   "source": [
    "print(optimum.x[0])\n",
    "print(AS(optimum.x[0]))"
   ]
  },
  {
   "cell_type": "markdown",
   "metadata": {},
   "source": [
    "## Numerical solution"
   ]
  },
  {
   "cell_type": "markdown",
   "metadata": {},
   "source": [
    "# Further analysis"
   ]
  },
  {
   "cell_type": "markdown",
   "metadata": {},
   "source": [
    "# Conclusion"
   ]
  },
  {
   "cell_type": "markdown",
   "metadata": {},
   "source": [
    "ADD CONCISE CONCLUSION."
   ]
  }
 ],
 "metadata": {
  "kernelspec": {
   "display_name": "Python 3",
   "language": "python",
   "name": "python3"
  },
  "language_info": {
   "codemirror_mode": {
    "name": "ipython",
    "version": 3
   },
   "file_extension": ".py",
   "mimetype": "text/x-python",
   "name": "python",
   "nbconvert_exporter": "python",
   "pygments_lexer": "ipython3",
   "version": "3.7.6-final"
  },
  "toc-autonumbering": true
 },
 "nbformat": 4,
 "nbformat_minor": 4
}