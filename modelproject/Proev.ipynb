{
 "cells": [
  {
   "cell_type": "code",
   "execution_count": 174,
   "metadata": {},
   "outputs": [],
   "source": [
    "\n",
    "from IPython.display import display\n",
    "import ipywidgets as wg\n",
    "\n",
    "%matplotlib inline\n",
    "import matplotlib.pyplot as plt\n",
    "import numpy as np\n"
   ]
  },
  {
   "cell_type": "code",
   "execution_count": 175,
   "metadata": {},
   "outputs": [],
   "source": [
    "\n",
    "def AD_graph(a):\n",
    "    yt = np.linspace(0,100)\n",
    "    ybar = 50\n",
    "    pistar = 2\n",
    "    pit = (a*pistar - yt + ybar)/a\n",
    "    \n",
    "    # Making the graph\n",
    "    plt.plot(yt, pit ,'r-')\n",
    "    plt.ylabel('pi') \n",
    "    plt.xlabel('yt')\n",
    "    plt.ylim([0,100])\n",
    "    plt.xlim([0,100])\n",
    "    \n",
    "def AS_graph(g):\n",
    "    yt = np.linspace(0,100)\n",
    "    ybar = 50\n",
    "    pitm1 = 1\n",
    "    pit = g*(yt-ybar)+pitm1\n",
    "    # Making the graph\n",
    "\n",
    "    plt.plot(yt, pit, 'b-')\n",
    "    plt.ylabel('pi') \n",
    "    plt.xlabel('yt')\n",
    "    plt.ylim([0,100])\n",
    "    plt.xlim([0,100])\n",
    "\n"
   ]
  },
  {
   "cell_type": "code",
   "execution_count": 171,
   "metadata": {},
   "outputs": [],
   "source": []
  },
  {
   "cell_type": "code",
   "execution_count": 173,
   "metadata": {},
   "outputs": [
    {
     "output_type": "display_data",
     "data": {
      "text/plain": "interactive(children=(FloatSlider(value=0.5, description='a', max=1.0, step=0.01), Output()), _dom_classes=('w…",
      "application/vnd.jupyter.widget-view+json": {
       "version_major": 2,
       "version_minor": 0,
       "model_id": "9d113b176c284e7cb34e51a4289bca98"
      }
     },
     "metadata": {}
    },
    {
     "output_type": "display_data",
     "data": {
      "text/plain": "interactive(children=(FloatSlider(value=0.5, description='g', max=1.0, step=0.01), Output()), _dom_classes=('w…",
      "application/vnd.jupyter.widget-view+json": {
       "version_major": 2,
       "version_minor": 0,
       "model_id": "7e495d7c2dc548c0821a1acf732d73e9"
      }
     },
     "metadata": {}
    }
   ],
   "source": [
    "# Slider\n",
    "a_slider = wg.FloatSlider(value=0.5, min=0, max=1, step = 0.01)\n",
    "g_slider = wg.FloatSlider(value=0.5, min=0, max=1, step = 0.01)\n",
    "\n",
    "AD = wg.interact(AD_graph, a = a_slider)\n",
    "AS = wg.interact(AS_graph, g = g_slider)\n",
    "\n"
   ]
  },
  {
   "cell_type": "code",
   "execution_count": 6,
   "metadata": {},
   "outputs": [],
   "source": []
  },
  {
   "cell_type": "code",
   "execution_count": null,
   "metadata": {},
   "outputs": [],
   "source": []
  }
 ],
 "metadata": {
  "language_info": {
   "codemirror_mode": {
    "name": "ipython",
    "version": 3
   },
   "file_extension": ".py",
   "mimetype": "text/x-python",
   "name": "python",
   "nbconvert_exporter": "python",
   "pygments_lexer": "ipython3",
   "version": "3.7.4-final"
  },
  "orig_nbformat": 2,
  "kernelspec": {
   "name": "python3",
   "display_name": "Python 3"
  }
 },
 "nbformat": 4,
 "nbformat_minor": 2
}